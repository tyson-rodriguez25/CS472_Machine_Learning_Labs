{
  "cells": [
    {
      "cell_type": "markdown",
      "metadata": {
        "id": "DVL7_bgmIAPR"
      },
      "source": [
        "# K-Nearest Neighbor Lab\n",
        "\n",
        "\n",
        "\n"
      ]
    },
    {
      "cell_type": "code",
      "execution_count": 1,
      "metadata": {
        "id": "6ZbYjZZZ_yLV"
      },
      "outputs": [],
      "source": [
        "from sklearn.base import BaseEstimator, ClassifierMixin\n",
        "from sklearn.neighbors import KNeighborsClassifier, KNeighborsRegressor\n",
        "from sklearn.model_selection import train_test_split as tts\n",
        "import numpy as np\n",
        "from scipy.io import arff\n",
        "import matplotlib.pyplot as plt\n",
        "from scipy.stats import mode\n",
        "import pandas as pd"
      ]
    },
    {
      "cell_type": "markdown",
      "metadata": {
        "id": "sCcEPx5VIORj"
      },
      "source": [
        "## 1. Implement the k-nearest neighbor (KNN) algorithm\n",
        "\n",
        "### Code requirements\n",
        "- Use Euclidean distance to decide closest neighbors\n",
        "- Implement both the regular (classifcation) version and the regression version\n",
        "- Include optional distance weighting for both algorithms"
      ]
    },
    {
      "cell_type": "code",
      "execution_count": 2,
      "metadata": {
        "id": "_a2KSZ_7AN0G"
      },
      "outputs": [],
      "source": [
        "class KNNClassifier(BaseEstimator,ClassifierMixin):\n",
        "    def __init__(self, columntype=None, weight_type='inverse_distance', K=3, eps=1e-10, normalize=False, algorithm='standard'): ## add parameters here\n",
        "        self.columntype = columntype #Note This won't be needed until part 5\n",
        "        self.weight_type = weight_type\n",
        "        self.normalize = normalize\n",
        "        self.algorithm = algorithm\n",
        "        self.column_dicts = None\n",
        "        self.K = K\n",
        "        self.eps = eps\n",
        "        \n",
        "        \n",
        "    def fit(self, data, labels):\n",
        "        if self.columntype is not None:\n",
        "            data = self.adjust_data(data)\n",
        "        self.X = data\n",
        "        self.normal_vals = {'max': data.max(axis=0), 'min': data.min(axis=0)}\n",
        "        if self.normalize:\n",
        "            self.X = self.normalize_data(self.X)\n",
        "        self.y = labels\n",
        "        self.m, self.n = data.shape\n",
        "        return self\n",
        "    \n",
        "    def find_neighbors_no_weight(self, x):\n",
        "        distances = np.linalg.norm(x-self.X, axis=1, ord=2)\n",
        "        if self.algorithm == 'regression':\n",
        "            return np.mean(self.y[distances.argsort()][:self.K])\n",
        "        else:\n",
        "            return mode(self.y[distances.argsort()][:self.K])[0][0]\n",
        "    \n",
        "    def find_neighbors_inverse(self, x):\n",
        "        distances = np.linalg.norm(x-self.X, axis=1, ord=2) #euclidian\n",
        "        distance_args = distances.argsort()[:self.K] \n",
        "        K_distances = distances[distance_args]\n",
        "        K_neighbors = self.y[distance_args]\n",
        "        if self.algorithm == 'regression':\n",
        "            values = []\n",
        "            weights = []\n",
        "            for neighbor, distance in zip(K_neighbors, K_distances):\n",
        "                w = 1 if distance < self.eps else 1 / distance**2\n",
        "                weights.append(w)\n",
        "                values.append(neighbor*w)\n",
        "            return np.array(values).sum()/np.array(weights).sum()\n",
        "        else:\n",
        "            votes = {i: 0 for i in set(K_neighbors)}\n",
        "            for neighbor, distance in zip(K_neighbors, K_distances):\n",
        "                votes[neighbor] += 1 / (distance**2 + self.eps)\n",
        "            return max(votes, key=votes.get)\n",
        "    \n",
        "    def normalize_data(self, X):\n",
        "        X = (X - self.normal_vals['min'])/(self.normal_vals['max']- self.normal_vals['min'])\n",
        "        return X\n",
        "    \n",
        "    def predict(self, data):\n",
        "        if self.normalize:\n",
        "            data = self.normalize_data(data)\n",
        "        if self.weight_type == 'no_weight':\n",
        "            return [self.find_neighbors_no_weight(data[i]) for i in range(len(data))]\n",
        "        elif self.weight_type == \"inverse_distance\":\n",
        "            return [self.find_neighbors_inverse(data[i]) for i in range(len(data))]\n",
        "\n",
        "    def score(self, X, y):\n",
        "        if self.columntype is not None:\n",
        "            X = self.adjust_data(X)\n",
        "        return np.mean(self.predict(X) == y)\n",
        "    \n",
        "    def MSE(self, X, y):\n",
        "        return np.mean((self.predict(X) - np.array(y))**2)\n",
        "    \n",
        "    def create_dictionaries(self, data):\n",
        "        self.column_dicts = []\n",
        "        temp = data.T\n",
        "        for row in range(len(temp)):\n",
        "            dict_ = {}\n",
        "            if self.columntype[row] == 'cat':\n",
        "                for val in set(temp[row]):\n",
        "                    dict_.update({val: np.mean(temp[row] == val)})\n",
        "            self.column_dicts.append(dict_)\n",
        "        \n",
        "    def adjust_data(self, data):\n",
        "        if self.column_dicts is None:\n",
        "            self.create_dictionaries(data)\n",
        "        df = pd.DataFrame(data, columns=[str(i) for i in range(len(self.columntype))])\n",
        "        for i in range(len(self.columntype)):\n",
        "            if self.columntype[i] == 'cat':\n",
        "                df[str(i)] = df[str(i)].apply(lambda x: self.column_dicts[i][x] if x in list(self.column_dicts[i].keys()) else 0)\n",
        "            else:\n",
        "                df[str(i)] = df[str(i)].apply(lambda x: 1 if x == b'?' else x)\n",
        "        return df.values\n",
        "    "
      ]
    },
    {
      "cell_type": "markdown",
      "metadata": {
        "id": "Bij9NNMUaXwp"
      },
      "source": [
        "## Debug and Evaluation\n",
        "\n",
        "Debug and Evaluate your model using the parameters below:\n",
        "- Use distance weighting\n",
        "- KNN = 3 (three nearest neighbors)\n",
        "- Don’t normalize the data\n",
        "- Use Euclidean Distance\n",
        "---\n",
        "\n",
        "### 1.1 (20%) Debug using this [training set](https://raw.githubusercontent.com/cs472ta/CS472/master/datasets/glass_train.arff) and this [test set](https://raw.githubusercontent.com/cs472ta/CS472/master/datasets/glass_test.arff)\n",
        "\n",
        "Expected Results:\n",
        "- Not using inverse weighted distancing = roughly [68.29%]\n",
        "- Link to [debug solution](https://github.com/cs472ta/CS472/blob/master/debug_solutions/glass_no_inv_predictions.txt)\n",
        "- Using inverse weighted distancing = roughly [74.39%]\n",
        "- Link to [debug solution](https://github.com/cs472ta/CS472/blob/master/debug_solutions/glass_inv_predictions.txt)"
      ]
    },
    {
      "cell_type": "code",
      "execution_count": 3,
      "metadata": {
        "colab": {
          "base_uri": "https://localhost:8080/"
        },
        "id": "aZ3foXOgaXwt",
        "outputId": "23deeabd-8be0-4b35-d91b-8669495c88bb"
      },
      "outputs": [
        {
          "output_type": "stream",
          "name": "stdout",
          "text": [
            "74.39024390243902\n"
          ]
        },
        {
          "output_type": "stream",
          "name": "stderr",
          "text": [
            "/usr/local/lib/python3.7/dist-packages/ipykernel_launcher.py:1: FutureWarning: Could not cast to float64, falling back to object. This behavior is deprecated. In a future version, when a dtype is passed to 'DataFrame', either all columns will be cast to that dtype, or a TypeError will be raised\n",
            "  \"\"\"Entry point for launching an IPython kernel.\n",
            "/usr/local/lib/python3.7/dist-packages/ipykernel_launcher.py:2: FutureWarning: Could not cast to float64, falling back to object. This behavior is deprecated. In a future version, when a dtype is passed to 'DataFrame', either all columns will be cast to that dtype, or a TypeError will be raised\n",
            "  \n"
          ]
        }
      ],
      "source": [
        "data = pd.DataFrame(arff.loadarff('glass_train.arff')[0], dtype=float)\n",
        "test = pd.DataFrame(arff.loadarff('glass_test.arff')[0], dtype=float)\n",
        "x_train = data.drop(columns='Type').values\n",
        "y_train = data['Type'].values\n",
        "x_test = test.drop(columns='Type').values\n",
        "y_test = test['Type'].values\n",
        "knn = KNNClassifier()\n",
        "results = knn.fit(x_train, y_train).score(x_test, y_test)\n",
        "print(results*100)"
      ]
    },
    {
      "cell_type": "markdown",
      "metadata": {
        "id": "XKqIlYwtaXwt"
      },
      "source": [
        "### 1.2 (20%) Evaluate\n",
        "\n",
        "We will evaluate your model based on its performance on the [diabetes](https://archive.ics.uci.edu/ml/datasets/Diabetes) problem.\n",
        "- Use this [training set](https://raw.githubusercontent.com/cs472ta/CS472/master/datasets/diabetes_train.arff) and this [test set](https://raw.githubusercontent.com/cs472ta/CS472/master/datasets/diabetes_test.arff) and have your code print the accuracy."
      ]
    },
    {
      "cell_type": "code",
      "execution_count": 4,
      "metadata": {
        "id": "XHX1KU3daXwt",
        "colab": {
          "base_uri": "https://localhost:8080/"
        },
        "outputId": "fcae81b8-7462-4360-9a05-02a03bec4c5a"
      },
      "outputs": [
        {
          "output_type": "stream",
          "name": "stderr",
          "text": [
            "/usr/local/lib/python3.7/dist-packages/ipykernel_launcher.py:1: FutureWarning: Could not cast to float64, falling back to object. This behavior is deprecated. In a future version, when a dtype is passed to 'DataFrame', either all columns will be cast to that dtype, or a TypeError will be raised\n",
            "  \"\"\"Entry point for launching an IPython kernel.\n",
            "/usr/local/lib/python3.7/dist-packages/ipykernel_launcher.py:2: FutureWarning: Could not cast to float64, falling back to object. This behavior is deprecated. In a future version, when a dtype is passed to 'DataFrame', either all columns will be cast to that dtype, or a TypeError will be raised\n",
            "  \n"
          ]
        },
        {
          "output_type": "stream",
          "name": "stdout",
          "text": [
            "89.0625\n"
          ]
        }
      ],
      "source": [
        "data = pd.DataFrame(arff.loadarff('diabetes_train.arff')[0], dtype=float)\n",
        "test = pd.DataFrame(arff.loadarff('diabetes_test.arff')[0], dtype=float)\n",
        "x_train = data.drop(columns='class').values\n",
        "y_train = data['class'].values\n",
        "x_test = test.drop(columns='class').values\n",
        "y_test = test['class'].values\n",
        "knn = KNNClassifier()\n",
        "results = knn.fit(x_train, y_train).score(x_test, y_test)\n",
        "print(results*100)"
      ]
    },
    {
      "cell_type": "markdown",
      "metadata": {
        "id": "9vWiTdlbR2Xh"
      },
      "source": [
        "## 2. KNN with and without normalization\n",
        "\n",
        "- Use the [magic telescope](http://archive.ics.uci.edu/ml/datasets/MAGIC+Gamma+Telescope) task with this [training set](https://raw.githubusercontent.com/cs472ta/CS472/master/datasets/magic_telescope_train.arff) and this [test set](https://raw.githubusercontent.com/cs472ta/CS472/master/datasets/magic_telescope_test.arff) \n",
        "\n",
        "### 2.1 (5%)\n",
        "- Try it with k=3 and without distance weighting and *without* normalization\n"
      ]
    },
    {
      "cell_type": "code",
      "execution_count": 5,
      "metadata": {
        "id": "4SSoasDQSKXb",
        "colab": {
          "base_uri": "https://localhost:8080/"
        },
        "outputId": "ec9a1902-0c8a-4884-8b18-61cec0c9cc7c"
      },
      "outputs": [
        {
          "output_type": "stream",
          "name": "stderr",
          "text": [
            "/usr/local/lib/python3.7/dist-packages/ipykernel_launcher.py:1: FutureWarning: Could not cast to float64, falling back to object. This behavior is deprecated. In a future version, when a dtype is passed to 'DataFrame', either all columns will be cast to that dtype, or a TypeError will be raised\n",
            "  \"\"\"Entry point for launching an IPython kernel.\n",
            "/usr/local/lib/python3.7/dist-packages/ipykernel_launcher.py:2: FutureWarning: Could not cast to float64, falling back to object. This behavior is deprecated. In a future version, when a dtype is passed to 'DataFrame', either all columns will be cast to that dtype, or a TypeError will be raised\n",
            "  \n"
          ]
        },
        {
          "output_type": "stream",
          "name": "stdout",
          "text": [
            "80.82808280828083\n"
          ]
        }
      ],
      "source": [
        "data = pd.DataFrame(arff.loadarff('magic_telescope_train.arff')[0], dtype=float)\n",
        "test = pd.DataFrame(arff.loadarff('magic_telescope_test.arff')[0], dtype=float)\n",
        "x_train = data.drop(columns='class').values\n",
        "y_train = data['class'].values\n",
        "x_test = test.drop(columns='class').values\n",
        "y_test = test['class'].values\n",
        "knn = KNNClassifier(weight_type='no_weight')\n",
        "results = knn.fit(x_train, y_train).score(x_test, y_test)\n",
        "print(results*100)\n"
      ]
    },
    {
      "cell_type": "markdown",
      "metadata": {
        "id": "GRxKd1KpaXwu"
      },
      "source": [
        "### 2.2 (5%)\n",
        "- Try it with k=3 without distance weighting and *with* normalization (input features normalized between 0 and 1). Use the normalization formula (x-xmin)/(xmax-xmin)"
      ]
    },
    {
      "cell_type": "code",
      "execution_count": 7,
      "metadata": {
        "id": "i2g8j7wTaXwu",
        "colab": {
          "base_uri": "https://localhost:8080/"
        },
        "outputId": "f483a17a-bfa2-4a7d-c962-74c0e296ad56"
      },
      "outputs": [
        {
          "output_type": "stream",
          "name": "stderr",
          "text": [
            "/usr/local/lib/python3.7/dist-packages/ipykernel_launcher.py:1: FutureWarning: Could not cast to float64, falling back to object. This behavior is deprecated. In a future version, when a dtype is passed to 'DataFrame', either all columns will be cast to that dtype, or a TypeError will be raised\n",
            "  \"\"\"Entry point for launching an IPython kernel.\n",
            "/usr/local/lib/python3.7/dist-packages/ipykernel_launcher.py:2: FutureWarning: Could not cast to float64, falling back to object. This behavior is deprecated. In a future version, when a dtype is passed to 'DataFrame', either all columns will be cast to that dtype, or a TypeError will be raised\n",
            "  \n"
          ]
        },
        {
          "output_type": "stream",
          "name": "stdout",
          "text": [
            "83.06330633063307\n"
          ]
        }
      ],
      "source": [
        "data = pd.DataFrame(arff.loadarff('magic_telescope_train.arff')[0], dtype=float)\n",
        "test = pd.DataFrame(arff.loadarff('magic_telescope_test.arff')[0], dtype=float)\n",
        "x_train = data.drop(columns='class').values\n",
        "y_train = data['class'].values\n",
        "x_test = test.drop(columns='class').values\n",
        "y_test = test['class'].values\n",
        "knn = KNNClassifier(normalize=True, weight_type='no_weight')\n",
        "results = knn.fit(x_train, y_train).score(x_test, y_test)\n",
        "print(results*100)"
      ]
    },
    {
      "cell_type": "markdown",
      "metadata": {
        "id": "5AKdKF6uaXwu"
      },
      "source": [
        "It appears that Normalized data gives a higher accuracy compared to non Normalized Data"
      ]
    },
    {
      "cell_type": "markdown",
      "metadata": {
        "id": "V0dHBYE2aXwv"
      },
      "source": [
        "### 2.3 (5%)\n",
        "\n",
        "- Using your normalized data, create one graph with classification accuracy on the test set on the y-axis and k values on the x-axis. \n",
        "    - Use odd values of k from 1 to 15.\n",
        "- As a rough sanity check, typical knn accuracies for the magic telescope data set are 75-85%"
      ]
    },
    {
      "cell_type": "code",
      "execution_count": 8,
      "metadata": {
        "id": "-YGsi6N3aXwv",
        "colab": {
          "base_uri": "https://localhost:8080/",
          "height": 384
        },
        "outputId": "a92ceaa2-55bf-499a-faf3-73e23a57b564"
      },
      "outputs": [
        {
          "output_type": "stream",
          "name": "stderr",
          "text": [
            "/usr/local/lib/python3.7/dist-packages/ipykernel_launcher.py:1: FutureWarning: Could not cast to float64, falling back to object. This behavior is deprecated. In a future version, when a dtype is passed to 'DataFrame', either all columns will be cast to that dtype, or a TypeError will be raised\n",
            "  \"\"\"Entry point for launching an IPython kernel.\n",
            "/usr/local/lib/python3.7/dist-packages/ipykernel_launcher.py:2: FutureWarning: Could not cast to float64, falling back to object. This behavior is deprecated. In a future version, when a dtype is passed to 'DataFrame', either all columns will be cast to that dtype, or a TypeError will be raised\n",
            "  \n"
          ]
        },
        {
          "output_type": "display_data",
          "data": {
            "text/plain": [
              "<Figure size 432x288 with 1 Axes>"
            ],
            "image/png": "[encoded data removed]"
          },
          "metadata": {
            "needs_background": "light"
          }
        }
      ],
      "source": [
        "data = pd.DataFrame(arff.loadarff('magic_telescope_train.arff')[0], dtype=float)\n",
        "test = pd.DataFrame(arff.loadarff('magic_telescope_test.arff')[0], dtype=float)\n",
        "x_train = data.drop(columns='class').values\n",
        "y_train = data['class'].values\n",
        "x_test = test.drop(columns='class').values\n",
        "y_test = test['class'].values\n",
        "scores = []\n",
        "vals = []\n",
        "for k in np.arange(1, 16, 2):\n",
        "    knn = KNNClassifier(K=k, normalize=True, weight_type='no_weight')\n",
        "    knn.fit(x_train, y_train)\n",
        "    vals.append(k)\n",
        "    scores.append(knn.score(x_test, y_test))\n",
        "fig = plt.figure()\n",
        "plt.plot(vals, scores)\n",
        "plt.title(\"Magic Telescope Accuracy vs. K Neighbors\")\n",
        "plt.ylabel(\"Accuracy %\")\n",
        "plt.xlabel(\"K neighbors\")\n",
        "plt.show()"
      ]
    },
    {
      "cell_type": "markdown",
      "metadata": {
        "id": "49uobiZKaXwv"
      },
      "source": [
        "*For the rest of the experiments use only normalized data*"
      ]
    },
    {
      "cell_type": "markdown",
      "metadata": {
        "id": "SIRG42TgSR4x"
      },
      "source": [
        "## 3. (10%) KNN regression\n",
        "\n",
        "- Use the regression variation of your algorithm (without distance weighting) on the [housing price prediction](https://www.cs.toronto.edu/~delve/data/boston/bostonDetail.html) problem.  Use this [training set](https://raw.githubusercontent.com/cs472ta/CS472/master/datasets/housing_train.arff) and this [test set](https://raw.githubusercontent.com/cs472ta/CS472/master/datasets/housing_test.arff). Note this data set has an example of an inappropriate use of data which we will discuss.\n",
        "- Use Mean Square Error (MSE) on the test set as your accuracy metric for this case\n",
        "    - Do not normalize regression output values\n",
        "- Graph MSE on the test set with odd values of k from 1 to 15"
      ]
    },
    {
      "cell_type": "code",
      "execution_count": 9,
      "metadata": {
        "id": "KBGUn43ASiXW",
        "colab": {
          "base_uri": "https://localhost:8080/",
          "height": 295
        },
        "outputId": "b03902dc-b397-43f9-f421-69601e967223"
      },
      "outputs": [
        {
          "output_type": "display_data",
          "data": {
            "text/plain": [
              "<Figure size 432x288 with 1 Axes>"
            ],
            "image/png": "[encoded data removed]"
          },
          "metadata": {
            "needs_background": "light"
          }
        }
      ],
      "source": [
        "data = pd.DataFrame(arff.loadarff('housing_train.arff')[0], dtype=float)\n",
        "test = pd.DataFrame(arff.loadarff('housing_test.arff')[0], dtype=float)\n",
        "x_train = data.drop(columns='MEDV').values\n",
        "y_train = data['MEDV'].values\n",
        "x_test = test.drop(columns='MEDV').values\n",
        "y_test = test['MEDV'].values\n",
        "MSEs = []\n",
        "vals = []\n",
        "for k in np.arange(1, 16, 2):\n",
        "    knn = KNNClassifier(K=k, normalize=True, weight_type='no_weight', algorithm='regression')\n",
        "    knn.fit(x_train, y_train)\n",
        "    vals.append(k)\n",
        "    MSEs.append(knn.MSE(x_test, y_test))\n",
        "fig = plt.figure()\n",
        "plt.plot(vals, MSEs)\n",
        "plt.title(\"MSE for Housing Data vs. K Neighbors\")\n",
        "plt.ylabel(\"MSE\")\n",
        "plt.xlabel(\"K Neighbors\")\n",
        "plt.show()"
      ]
    },
    {
      "cell_type": "markdown",
      "metadata": {
        "id": "v19fpixqTe-7"
      },
      "source": [
        "## 4. KNN with distance weighting\n",
        "- Repeat your experiments for magic telescope and housing using distance-weighted (inverse of distance squared) voting and discuss your results."
      ]
    },
    {
      "cell_type": "markdown",
      "metadata": {
        "id": "uGV3FSImaXwv"
      },
      "source": [
        "### 4.1 (7.5%) Magic Telescope Dataset"
      ]
    },
    {
      "cell_type": "code",
      "execution_count": 10,
      "metadata": {
        "id": "ZCPFUAGTS2sX",
        "colab": {
          "base_uri": "https://localhost:8080/",
          "height": 384
        },
        "outputId": "bb39518d-f328-42fc-dbf4-56e92b14174e"
      },
      "outputs": [
        {
          "output_type": "stream",
          "name": "stderr",
          "text": [
            "/usr/local/lib/python3.7/dist-packages/ipykernel_launcher.py:1: FutureWarning: Could not cast to float64, falling back to object. This behavior is deprecated. In a future version, when a dtype is passed to 'DataFrame', either all columns will be cast to that dtype, or a TypeError will be raised\n",
            "  \"\"\"Entry point for launching an IPython kernel.\n",
            "/usr/local/lib/python3.7/dist-packages/ipykernel_launcher.py:2: FutureWarning: Could not cast to float64, falling back to object. This behavior is deprecated. In a future version, when a dtype is passed to 'DataFrame', either all columns will be cast to that dtype, or a TypeError will be raised\n",
            "  \n"
          ]
        },
        {
          "output_type": "display_data",
          "data": {
            "text/plain": [
              "<Figure size 432x288 with 1 Axes>"
            ],
            "image/png": "[encoded data removed]"
          },
          "metadata": {
            "needs_background": "light"
          }
        }
      ],
      "source": [
        "data = pd.DataFrame(arff.loadarff('magic_telescope_train.arff')[0], dtype=float)\n",
        "test = pd.DataFrame(arff.loadarff('magic_telescope_test.arff')[0], dtype=float)\n",
        "x_train = data.drop(columns='class').values\n",
        "y_train = data['class'].values\n",
        "x_test = test.drop(columns='class').values\n",
        "y_test = test['class'].values\n",
        "scores1 = []\n",
        "vals = []\n",
        "for k in np.arange(1, 16, 2):\n",
        "    knn = KNNClassifier(K=k, normalize=True)\n",
        "    knn.fit(x_train, y_train)\n",
        "    vals.append(k)\n",
        "    scores1.append(knn.score(x_test, y_test))\n",
        "fig = plt.figure()\n",
        "plt.plot(vals, scores1, label=\"Inverse Distance\")\n",
        "plt.plot(vals, scores, label=\"No Weight\")\n",
        "plt.title(\"Magic Telescope Accuracy vs. K Neighbors\")\n",
        "plt.ylabel(\"Accuracy %\")\n",
        "plt.xlabel(\"K neighbors\")\n",
        "plt.legend()\n",
        "plt.show()"
      ]
    },
    {
      "cell_type": "markdown",
      "metadata": {
        "id": "V-ldaO2OaXww"
      },
      "source": [
        "### 4.2 (7.5%) Housing Dataset"
      ]
    },
    {
      "cell_type": "code",
      "execution_count": 11,
      "metadata": {
        "id": "-E4WY8GbaXww",
        "colab": {
          "base_uri": "https://localhost:8080/",
          "height": 295
        },
        "outputId": "81f1f7a7-3c95-497c-ae51-866cf9383fd2"
      },
      "outputs": [
        {
          "output_type": "display_data",
          "data": {
            "text/plain": [
              "<Figure size 432x288 with 1 Axes>"
            ],
            "image/png": "[encoded data removed]"
          },
          "metadata": {
            "needs_background": "light"
          }
        }
      ],
      "source": [
        "data = pd.DataFrame(arff.loadarff('housing_train.arff')[0], dtype=float)\n",
        "test = pd.DataFrame(arff.loadarff('housing_test.arff')[0], dtype=float)\n",
        "x_train = data.drop(columns='MEDV').values\n",
        "y_train = data['MEDV'].values\n",
        "x_test = test.drop(columns='MEDV').values\n",
        "y_test = test['MEDV'].values\n",
        "MSEs1 = []\n",
        "vals = []\n",
        "for k in np.arange(1, 16, 2):\n",
        "    knn = KNNClassifier(K=k, normalize=True, algorithm='regression')\n",
        "    knn.fit(x_train, y_train)\n",
        "    vals.append(k)\n",
        "    MSEs1.append(knn.MSE(x_test, y_test))\n",
        "fig = plt.figure()\n",
        "plt.plot(vals, MSEs1, label='Inverse Distance')\n",
        "plt.plot(vals, MSEs, label=\"No Weight\")\n",
        "plt.title(\"MSE for Housing Data vs. K Neighbors\")\n",
        "plt.ylabel(\"MSE\")\n",
        "plt.xlabel(\"K Neighbors\")\n",
        "plt.legend()\n",
        "plt.show()"
      ]
    },
    {
      "cell_type": "markdown",
      "metadata": {
        "id": "0jYyt8t_aXww"
      },
      "source": [
        "In both cases, When inverse weighting was used, it provided a much better accuracy and MSE for both of the data sets compared to no weights. Both of them seemed to diverge in preformance when it was using mor than 3 neighbors."
      ]
    },
    {
      "cell_type": "markdown",
      "metadata": {
        "id": "ld4W_Wt5aXww"
      },
      "source": [
        "## 5. (10%) KNN with nominal and unknown data\n",
        "\n",
        "- Use the [credit-approval](https://archive.ics.uci.edu/ml/datasets/Credit+Approval) task and this [dataset](https://raw.githubusercontent.com/cs472ta/CS472/master/datasets/credit_approval.arff)\n",
        "    - Use a 70/30 split of the data for the training/test set\n",
        "- Note that this set has both continuous and nominal attributes, together with don’t know values. \n",
        "- Implement and justify a distance metric which supports continuous, nominal, and don’t know attribute values\n",
        "    - You need to handle don't knows with the distance metric, not by imputing a value.\n",
        "    - More information on distance metrics can be found [here](https://www.jair.org/index.php/jair/article/view/10182/24168).\n",
        "- Use your own choice for k.\n",
        "- As a rough sanity check, typical knn accuracies for the credit data set are 70-80%."
      ]
    },
    {
      "cell_type": "code",
      "execution_count": 31,
      "metadata": {
        "id": "cfEgo7nZaXww",
        "colab": {
          "base_uri": "https://localhost:8080/"
        },
        "outputId": "6f91d9a1-438a-4898-c45f-bba1d2c8ed00"
      },
      "outputs": [
        {
          "output_type": "stream",
          "name": "stdout",
          "text": [
            "69.94219653179191\n"
          ]
        },
        {
          "output_type": "stream",
          "name": "stderr",
          "text": [
            "/usr/local/lib/python3.7/dist-packages/ipykernel_launcher.py:1: FutureWarning: Could not cast to float64, falling back to object. This behavior is deprecated. In a future version, when a dtype is passed to 'DataFrame', either all columns will be cast to that dtype, or a TypeError will be raised\n",
            "  \"\"\"Entry point for launching an IPython kernel.\n"
          ]
        }
      ],
      "source": [
        "data = pd.DataFrame(arff.loadarff('credit_approval.arff')[0], dtype=float)\n",
        "data['class'] = data['class'].map({b'+':0, b'-':1})\n",
        "col_types = ['cat', 'num', 'num', 'cat', 'cat', 'cat', 'cat', 'num', 'cat', 'cat', 'num', 'cat', 'cat', 'num', 'num']\n",
        "X_train, X_test = tts(data)\n",
        "y_train = X_train['class'].values\n",
        "X_train = X_train.drop(columns=['class']).values\n",
        "y_test = X_test['class'].values\n",
        "X_test = X_test.drop(columns=['class']).values\n",
        "knn = KNNClassifier(K=7, columntype=col_types, normalize=False)\n",
        "results = knn.fit(X_train, y_train).score(X_test, y_test)\n",
        "print(results*100)\n"
      ]
    },
    {
      "cell_type": "markdown",
      "metadata": {
        "id": "JjES4XIYaXww"
      },
      "source": [
        "I tested with 7 because it seemed to be the best accuracy compared to other numbers I tried."
      ]
    },
    {
      "cell_type": "markdown",
      "metadata": {
        "id": "oBBmeNQ7jvcQ"
      },
      "source": [
        "## 6. (10%) Scikit-Learn KNN \n",
        "- Use the scikit-learn KNN version on magic telescope and housing and compare your results\n",
        "- Try out different hyperparameters to see how well you can do. "
      ]
    },
    {
      "cell_type": "code",
      "execution_count": 19,
      "metadata": {
        "id": "OFQv70W2VyqJ",
        "colab": {
          "base_uri": "https://localhost:8080/",
          "height": 662
        },
        "outputId": "96e0278f-5fd1-4b34-a85c-e31eaff35574"
      },
      "outputs": [
        {
          "output_type": "stream",
          "name": "stderr",
          "text": [
            "/usr/local/lib/python3.7/dist-packages/ipykernel_launcher.py:1: FutureWarning: Could not cast to float64, falling back to object. This behavior is deprecated. In a future version, when a dtype is passed to 'DataFrame', either all columns will be cast to that dtype, or a TypeError will be raised\n",
            "  \"\"\"Entry point for launching an IPython kernel.\n",
            "/usr/local/lib/python3.7/dist-packages/ipykernel_launcher.py:4: FutureWarning: Could not cast to float64, falling back to object. This behavior is deprecated. In a future version, when a dtype is passed to 'DataFrame', either all columns will be cast to that dtype, or a TypeError will be raised\n",
            "  after removing the cwd from sys.path.\n"
          ]
        },
        {
          "output_type": "display_data",
          "data": {
            "text/plain": [
              "<Figure size 432x288 with 1 Axes>"
            ],
            "image/png": "[encoded data removed]"
          },
          "metadata": {
            "needs_background": "light"
          }
        },
        {
          "output_type": "display_data",
          "data": {
            "text/plain": [
              "<Figure size 432x288 with 1 Axes>"
            ],
            "image/png": "[encoded data removed]"
          },
          "metadata": {
            "needs_background": "light"
          }
        }
      ],
      "source": [
        "train = pd.DataFrame(arff.loadarff('magic_telescope_train.arff')[0], dtype=float)\n",
        "X_train = train.drop(columns='class').values\n",
        "y_train = train['class'].map({b'g':0, b'h':1}).values\n",
        "test =  pd.DataFrame(arff.loadarff('magic_telescope_test.arff')[0], dtype=float)\n",
        "X_test = test.drop(columns='class').values\n",
        "y_test = test['class'].map({b'g':0, b'h':1}).values\n",
        "\n",
        "m_scores_with = []\n",
        "m_scores_without = []\n",
        "for k in np.arange(1,16,2):\n",
        "    knn = KNeighborsClassifier(n_neighbors=k, weights='distance')\n",
        "    knn.fit(X_train, y_train)\n",
        "    m_scores_without.append(knn.score(X_test, y_test)*100)\n",
        "\n",
        "    knn = KNeighborsClassifier(n_neighbors=k, weights='uniform')\n",
        "    knn.fit(X_train, y_train)\n",
        "    m_scores_with.append(knn.score(X_test, y_test)*100)\n",
        "\n",
        "plt.plot(np.arange(1,16,2), m_scores_with, label='SK uniform weight')\n",
        "plt.plot(np.arange(1,16,2), m_scores_without, label='SK distance weigth')\n",
        "plt.title(\"Magic With vs Without\")\n",
        "plt.xlabel(\"K\")\n",
        "plt.ylabel(\"Score %\")\n",
        "plt.legend()\n",
        "plt.show()\n",
        "\n",
        "\n",
        "# Load housing price prediction data\n",
        "train = pd.DataFrame(arff.loadarff('housing_train.arff')[0], dtype=float)\n",
        "X_train = train.drop(columns='MEDV').values\n",
        "y_train = train['MEDV'].values\n",
        "test =  pd.DataFrame(arff.loadarff('housing_test.arff')[0], dtype=float)\n",
        "X_test = test.drop(columns='MEDV').values\n",
        "y_test = test['MEDV'].values\n",
        "h_scores_with = []\n",
        "h_scores_without = []\n",
        "for k in np.arange(1,16,2):\n",
        "    knn = KNeighborsRegressor(n_neighbors=k, weights='distance')\n",
        "    knn.fit(X_train, y_train)\n",
        "    h_scores_without.append(knn.score(X_test, y_test)*100)\n",
        "\n",
        "    knn = KNeighborsRegressor(n_neighbors=k, weights='uniform')\n",
        "    knn.fit(X_train, y_train)\n",
        "    h_scores_with.append(knn.score(X_test, y_test)*100)\n",
        "\n",
        "plt.plot(np.arange(1,16,2), h_scores_with, label='SK uniform weight')\n",
        "plt.plot(np.arange(1,16,2), h_scores_without, label='SK distance weight')\n",
        "plt.title(\"Housing With vs Without\")\n",
        "plt.xlabel(\"K\")\n",
        "plt.ylabel(\"Score %\")\n",
        "plt.legend()\n",
        "plt.show()"
      ]
    },
    {
      "cell_type": "markdown",
      "metadata": {
        "id": "BqSFAXwlk3Ms"
      },
      "source": [
        "It seems that distance weighting with the classifier seems to behave similarly to the classifier and more than three neighbors provides significant improvement in accuracy. However, there seems to be some improvement in the sk knn regression between 5 and 11 neighbors for distance weighting, but performs roughly similar to uniform once the neighbors are larger than 13.  "
      ]
    },
    {
      "cell_type": "markdown",
      "metadata": {
        "id": "cTlK-kijk8Mg"
      },
      "source": [
        "## 7. (optional 5% extra credit): Reducing the data set\n",
        "- Choose either of the data sets above and use the best k value you found.\n",
        "- Implement a reduction algorithm that removes data points in some rational way such that performance does not drop too drastically on the test set given the reduced training set.\n",
        "- Compare your performance on the test set for the reduced and non-reduced versions and give the number (and percentage) of training examples removed from the original training set. \n",
        "    - Note that performance for magic telescope is classification accuracy and for housing it is mean squared error.\n",
        "    - Magic Telescope has about 12,000 instances and if you use a leave one out style of testing for your data set reduction, then your algorithm will run slow since that is n^2 at each step.\n",
        "        - If you wish, you may use a random subset of 2,000 of the magic telescope instances.\n",
        "    - More information on reduction techniques can be found [here](http://axon.cs.byu.edu/~martinez/classes/478/slides/IBL.pdf)."
      ]
    },
    {
      "cell_type": "code",
      "execution_count": null,
      "metadata": {
        "id": "OI8UcYCIaXwx"
      },
      "outputs": [],
      "source": [
        "# Code here"
      ]
    },
    {
      "cell_type": "markdown",
      "metadata": {
        "id": "5Ted0YoZaXwy"
      },
      "source": [
        "Discussion. How well did it do?"
      ]
    }
  ],
  "metadata": {
    "colab": {
      "collapsed_sections": [],
      "provenance": []
    },
    "kernelspec": {
      "display_name": "Python 3.10.7 64-bit",
      "language": "python",
      "name": "python3"
    },
    "language_info": {
      "codemirror_mode": {
        "name": "ipython",
        "version": 3
      },
      "file_extension": ".py",
      "mimetype": "text/x-python",
      "name": "python",
      "nbconvert_exporter": "python",
      "pygments_lexer": "ipython3",
      "version": "3.10.7"
    },
    "vscode": {
      "interpreter": {
        "hash": "aee8b7b246df8f9039afb4144a1f6fd8d2ca17a180786b69acc140d282b71a49"
      }
    }
  },
  "nbformat": 4,
  "nbformat_minor": 0
}