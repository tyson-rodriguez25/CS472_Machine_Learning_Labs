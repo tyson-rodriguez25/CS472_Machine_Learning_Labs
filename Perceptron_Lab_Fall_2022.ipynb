{
  "cells": [
    {
      "cell_type": "markdown",
      "metadata": {
        "id": "DVL7_bgmIAPR"
      },
      "source": [
        "# Perceptron Lab\n",
        "\n",
        "\n",
        "\n"
      ]
    },
    {
      "cell_type": "markdown",
      "metadata": {
        "id": "rBIfzcfn3QPO"
      },
      "source": [
        "This is the scaffold code for the perceptron lab and each lab will have a similar scaffold. There are both code boxes and discussion boxes that you will need to fill in as part of the lab. For example, the first code box you will fill is found below in section one. It a PerceptronClassifier class with function stubs. In addition to filling out the stubs, you are encouraged to add additional functions, parameters, etc. as you see fit.  You do not need to use the scaffolding, but your learners must minimally support the functions and parameters defined in the scaffolding.\n",
        "\n",
        "**You should have some discussion for all subtasks** and particularly discussion of results, graphs, etc. Good writing, grammar, punctuation, etc. are important and points will be taken off if these things are lacking. Label all axes on graphs. The report for each subtask might go something like:\n",
        "In this task I divided the randomly shuffled training set into a training set (70%) and a test set (30%). I tried different values of parameter x from n-m and reported training and test set accuracy in the table.  I kept testing until m because… The accuracy on the training set was highest for values between 2-4 while for the test set the accuracy was highest for values 5 and 6. In most casees just reporting results without discussion will not receive full credit. Thus, your discussion should also include sentences like the following: This is because…  Note that the …  I was surprised to observe… I am not sure why …, but my hypothesis is that …"
      ]
    },
    {
      "cell_type": "code",
      "execution_count": null,
      "metadata": {
        "id": "6ZbYjZZZ_yLV"
      },
      "outputs": [],
      "source": [
        "# imports\n",
        "from sklearn.base import BaseEstimator, ClassifierMixin\n",
        "from sklearn.linear_model import Perceptron\n",
        "import numpy as np\n",
        "import matplotlib.pyplot as plt"
      ]
    },
    {
      "cell_type": "markdown",
      "metadata": {
        "id": "sCcEPx5VIORj"
      },
      "source": [
        "## 1. Correctly implement and submit your own code for the perceptron learning algorithm. \n",
        "\n",
        "### Code requirements\n",
        "- Shuffle the data each epoch. Write your own this time. In the future you can use the scikit-learn version if you want.\n",
        "- Implement a way to create a random train/test split. Write your own this time. In the future you can use the scikit-learn version if you want. \n",
        "- Your node should output 1 if net is > 0, else 0.\n",
        "- Use Stochastic/On-line training updates: Iterate and update weights after each training instance (i.e. not batch updates)\n",
        "- Implement a stopping criteria: when your model has trained for a number of epochs with no improvement in accuracy, stop training. Note that the weights/accuracy do not usually change monotonically.\n",
        "- Your class can inherit from the relevant scikit-learn learners, but don't call any of the super methods to accomplish the requirements above.\n",
        "- You may use other packages for ARFF loading, graphing, generating a random number, etc."
      ]
    },
    {
      "cell_type": "code",
      "execution_count": null,
      "metadata": {
        "id": "_a2KSZ_7AN0G"
      },
      "outputs": [],
      "source": [
        "class PerceptronClassifier(BaseEstimator,ClassifierMixin):\n",
        "\n",
        "    def __init__(self, lr=.1, shuffle=True):\n",
        "        \"\"\" \n",
        "            Initialize class with chosen hyperparameters.\n",
        "        Args:\n",
        "            lr (float): A learning rate / step size.\n",
        "            shuffle: Whether to shuffle the training data each epoch. DO NOT \n",
        "            SHUFFLE for evaluation / debug datasets.\n",
        "        \"\"\"\n",
        "        self.lr = lr\n",
        "        self.shuffle = shuffle\n",
        "\n",
        "    def fit(self, X, y, initial_weights=None, epochs=10):\n",
        "        \"\"\" \n",
        "            Fit the data; run the algorithm and adjust the weights to find a \n",
        "            good solution\n",
        "        Args:\n",
        "            X (array-like): A 2D numpy array with the training data, excluding\n",
        "            targets\n",
        "            y (array-like): A 2D numpy array with the training targets\n",
        "            initial_weights (array-like): allows the user to provide initial \n",
        "            weights\n",
        "        Returns:\n",
        "            self: this allows this to be chained, e.g. model.fit(X,y).predict(X_test)\n",
        "        \"\"\"\n",
        "        self.length =  X.shape[1] + 1\n",
        "        self.weights = self.initialize_weights() if not initial_weights else initial_weights\n",
        "        self.weights = np.array(self.weights)\n",
        "        self.misclass = []\n",
        "        X_og = X.copy()\n",
        "        y_og = y.copy()\n",
        "        x_len = X.shape[1] + 1\n",
        "        X = np.column_stack((X, np.ones(X.shape[0])))\n",
        "        \n",
        "        for j in range(epochs):\n",
        "            passed = True\n",
        "            if self.shuffle:\n",
        "                curr_X, curr_y = self._shuffle_data(X, y)\n",
        "            else:\n",
        "                curr_X, curr_y = X, y\n",
        "            self.misclass.append(1-self.score(X_og, y_og))\n",
        "            for i in range(len(X)):\n",
        "                if sum((curr_X[i]*self.weights)) > 0 and curr_y[i] == 0.0:\n",
        "                    delta_weight = self.lr*(curr_y[i] - 1)*curr_X[i]\n",
        "                    passed = False\n",
        "                elif sum((curr_X[i]*self.weights)) <= 0 and curr_y[i] == 1.0:\n",
        "                    delta_weight = self.lr*(curr_y[i] - 0)*curr_X[i]\n",
        "                    passed = False\n",
        "                else:\n",
        "                    delta_weight = np.zeros(x_len)\n",
        "                self.weights += delta_weight\n",
        "            if passed:\n",
        "                self.epochs = j\n",
        "                break\n",
        "            else: \n",
        "                self.epochs = epochs\n",
        "        return self\n",
        "\n",
        "    def predict(self, X):\n",
        "        \"\"\" \n",
        "            Predict all classes for a dataset X\n",
        "        Args:\n",
        "            X (array-like): A 2D numpy array with the training data, excluding \n",
        "            targets\n",
        "        Returns:\n",
        "            array, shape (n_samples,)\n",
        "                Predicted target values per element in X.\n",
        "        \"\"\"\n",
        "        X = np.column_stack((X, np.ones(X.shape[0])))\n",
        "        nets = [sum((X[i]*self.weights)) for i in range(len(X))]\n",
        "        return [1 if x > 0 else 0 for x in nets]\n",
        "\n",
        "    def initialize_weights(self):\n",
        "        \"\"\" Initialize weights for perceptron. Don't forget the bias!\n",
        "        Returns:\n",
        "        \"\"\"\n",
        "\n",
        "        return np.random.uniform(0,1,self.length)\n",
        "\n",
        "    def score(self, X, y):\n",
        "        \"\"\" \n",
        "            Return accuracy of model on a given dataset. Must implement own \n",
        "            score function.\n",
        "        Args:\n",
        "            X (array-like): A 2D numpy array with data, excluding targets\n",
        "            y (array-like): A 2D numpy array with targets\n",
        "        Returns:\n",
        "            score : float\n",
        "                Mean accuracy of self.predict(X) wrt. y.\n",
        "        \"\"\"\n",
        "\n",
        "        return np.mean(y==self.predict(X))\n",
        "\n",
        "    def _shuffle_data(self, X, y):\n",
        "        \"\"\" \n",
        "            Shuffle the data! This _ prefix suggests that this method should \n",
        "            only be called internally.\n",
        "            It might be easier to concatenate X & y and shuffle a single 2D \n",
        "            array, rather than shuffling X and y exactly the same way, \n",
        "            independently.\n",
        "        \"\"\"\n",
        "        z = np.column_stack([X, y])\n",
        "        np.random.shuffle(z)\n",
        "        return z[:,:-1], z[:,-1]\n",
        "\n",
        "    ### Not required by sk-learn but required by us for grading. Returns the weights.\n",
        "    def get_weights(self):\n",
        "        return self.weights"
      ]
    },
    {
      "cell_type": "markdown",
      "metadata": {
        "id": "KibCIXIThpbE"
      },
      "source": [
        "## 1.1 Debug and Evaluation\n",
        "\n",
        "Use your perceptron code first to solve the Debug data. We provide you with several parameters, and you should be able to replicate our results every time. When you are confident your code is correct, run your perceptron on the Evaluation data with the same parameters.\n",
        "\n",
        "Debug and Evaluate your model using the parameters below\n",
        "\n",
        "Learning Rate = 0.1 \\ \n",
        "Deterministic = 10 [This means run it 10 epochs and should be the same everytime you run it] \\ \n",
        "Shuffle = False \\ \n",
        "Initial Weights = All zeros\n",
        "\n",
        "---\n",
        "\n",
        "### 1.1.1 (20%) Debug\n",
        "\n",
        "Debug your model by running it on the [debug dataset](https://raw.githubusercontent.com/cs472ta/CS472/master/datasets/linsep2nonorigin.arff)\n",
        "\n",
        "Expected Results:\n",
        "\n",
        "Accuracy = [0.88]\\\n",
        "Final Weights = [-0.23  0.18 -0.1 ]"
      ]
    },
    {
      "cell_type": "code",
      "execution_count": null,
      "metadata": {
        "id": "KgAyy82gixIF",
        "colab": {
          "base_uri": "https://localhost:8080/"
        },
        "outputId": "04f4d7f9-6a54-416a-85d3-e3ab20154c14"
      },
      "outputs": [
        {
          "output_type": "stream",
          "name": "stdout",
          "text": [
            "[-0.23  0.18 -0.1 ]\n",
            "0.875\n"
          ]
        }
      ],
      "source": [
        "from scipy.io import arff\n",
        "import pandas as pd\n",
        "\n",
        "dataset = arff.loadarff(\"linsep2nonorigin.arff\")\n",
        "data = pd.DataFrame(dataset[0], dtype=float)\n",
        "X = data.drop(columns=['class']).to_numpy()\n",
        "y = data['class'].to_numpy()\n",
        "\n",
        "perp = PerceptronClassifier(0.1, shuffle=False)\n",
        "perp.fit(X, y, [0., 0., 0.])\n",
        "print(perp.weights)\n",
        "print(perp.score(X, y))"
      ]
    },
    {
      "cell_type": "markdown",
      "metadata": {
        "id": "BJ8mElJc9oUl"
      },
      "source": [
        "After running my perceptron class on the debug data It was pretty much on the nose with the final weights. however, the accuracy of the run was different by .05. I am unsure if that is a substantial number to consider, however, the accuracy is accurate by + or - .1"
      ]
    },
    {
      "cell_type": "markdown",
      "metadata": {
        "id": "kY3VNB1ui03N"
      },
      "source": [
        "### 1.1.2 (20%) Evaluation\n",
        "\n",
        "We will evaluate your model based on it's performance on the [evaluation dataset](https://raw.githubusercontent.com/cs472ta/CS472/master/datasets/data_banknote_authentication.arff). Use the same parameters as the debug dataset"
      ]
    },
    {
      "cell_type": "code",
      "execution_count": null,
      "metadata": {
        "id": "2yAxA78QjDh2",
        "colab": {
          "base_uri": "https://localhost:8080/"
        },
        "outputId": "645f8f9f-e756-4264-e363-17399f71d26b"
      },
      "outputs": [
        {
          "output_type": "stream",
          "name": "stdout",
          "text": [
            "[-4.0683086  -2.74045275 -3.04119752 -1.4512887   5.26721053]\n",
            "0.978134110787172\n"
          ]
        }
      ],
      "source": [
        "dataset = arff.loadarff(\"data_banknote_authentication.arff\")\n",
        "data = pd.DataFrame(dataset[0], dtype=float)\n",
        "X = data.drop(columns=['class']).to_numpy()\n",
        "y = data['class'].to_numpy()\n",
        "\n",
        "perp = PerceptronClassifier(0.1, shuffle=False)\n",
        "perp.fit(X, y)\n",
        "print(perp.weights)\n",
        "print(perp.score(X, y))"
      ]
    },
    {
      "cell_type": "markdown",
      "metadata": {
        "id": "U-4J5VcS9umq"
      },
      "source": [
        "I ran the same Perceptron class on the data_banknote_authentication data and it seemed to run fairly well with an accuracy of 97%."
      ]
    },
    {
      "cell_type": "markdown",
      "metadata": {
        "id": "9vWiTdlbR2Xh"
      },
      "source": [
        "## 2. Classifying on linearly separable and non-linearly separable data\n",
        "\n",
        "### 2.1 (5%) Create 2 datasets\n",
        "\n",
        "- Both with 8 instances using 2 real valued inputs (ranging between -1 and 1) with 4 instances from each class. \n",
        "- One data set should be linearly separable and the other not.\n",
        "\n"
      ]
    },
    {
      "cell_type": "code",
      "execution_count": null,
      "metadata": {
        "id": "4SSoasDQSKXb",
        "colab": {
          "base_uri": "https://localhost:8080/",
          "height": 544
        },
        "outputId": "41040bba-a835-490e-f2bd-4883cf678eb3"
      },
      "outputs": [
        {
          "output_type": "display_data",
          "data": {
            "text/plain": [
              "<Figure size 432x288 with 1 Axes>"
            ],
            "image/png": "[encoded data removed]"
          },
          "metadata": {
            "needs_background": "light"
          }
        },
        {
          "output_type": "display_data",
          "data": {
            "text/plain": [
              "<Figure size 432x288 with 1 Axes>"
            ],
            "image/png": "[encoded data removed]"
          },
          "metadata": {
            "needs_background": "light"
          }
        }
      ],
      "source": [
        "X_1 = np.vstack([np.random.uniform(-1, 0, (4,2)), np.random.uniform(0, 1, (4,2))])\n",
        "y_1 = np.hstack([np.zeros(4), np.ones(4)])\n",
        "plt.scatter(*X_1.T, c=y_1)\n",
        "plt.xlabel(\"x\")\n",
        "plt.ylabel(\"y\")\n",
        "plt.show()\n",
        "\n",
        "X_2 = np.vstack([np.random.uniform(-1, 1, (4,2)), np.random.uniform(-1, 1, (4,2))])\n",
        "y_2 = np.hstack([np.zeros(4), np.ones(4)])\n",
        "plt.scatter(*X_2.T, c=y_2)\n",
        "plt.xlabel(\"x\")\n",
        "plt.ylabel(\"y\")\n",
        "plt.show()"
      ]
    },
    {
      "cell_type": "markdown",
      "metadata": {
        "id": "b8N_RKnL9ySB"
      },
      "source": [
        "I created 2 datasets one is linearly seperable while the other one is not. I did this by using a random plot of points, however, I made sure that one color of points correlated to be >0 and the other to be < 0. That way we know that there are two different outputs given. With the second one, I just did it on the whole graph and which made it non linearly seperable. "
      ]
    },
    {
      "cell_type": "markdown",
      "metadata": {
        "id": "SIRG42TgSR4x"
      },
      "source": [
        "### 2.2 (5%) Train on both sets with your perceptron code (with LR=.1)"
      ]
    },
    {
      "cell_type": "code",
      "execution_count": null,
      "metadata": {
        "id": "KBGUn43ASiXW",
        "colab": {
          "base_uri": "https://localhost:8080/"
        },
        "outputId": "796e74ba-02c8-466a-a4a8-4e97810ab5d9"
      },
      "outputs": [
        {
          "output_type": "stream",
          "name": "stdout",
          "text": [
            "[ 0.62581735  0.56436282 -0.08281947]\n",
            "1\n",
            "[-0.16646628 -0.13353027  0.03951216]\n",
            "10\n"
          ]
        }
      ],
      "source": [
        "perp = PerceptronClassifier(0.5, shuffle=False)\n",
        "perp.fit(X_1, y_1)\n",
        "print(perp.weights)\n",
        "print(perp.epochs)\n",
        "\n",
        "perp1 = PerceptronClassifier(0.2, shuffle=False)\n",
        "perp1.fit(X_2, y_2)\n",
        "print(perp1.weights)\n",
        "print(perp1.epochs)"
      ]
    },
    {
      "cell_type": "markdown",
      "metadata": {
        "id": "890A39KX9zLC"
      },
      "source": [
        "I then trained on both datasets by running it through my perceptron code and the output on the table above."
      ]
    },
    {
      "cell_type": "markdown",
      "metadata": {
        "id": "v19fpixqTe-7"
      },
      "source": [
        "### 2.3 (5%) Graph the datasets and their corresponding decision line\n",
        " \n",
        " - Graph each dataset\n",
        " - Use your trained perceptrons above to determine each dataset's decision line\n",
        " - For all graphs always label the axes!\n",
        " \n",
        "![Linearly Separable Data](https://raw.githubusercontent.com/rmorain/CS472-1/master/images/perceptron/linearly_separable.png)\n",
        "\n",
        "![Not Linearly Separable](https://raw.githubusercontent.com/rmorain/CS472-1/master/images/perceptron/not_linearly_separable.png)"
      ]
    },
    {
      "cell_type": "code",
      "execution_count": null,
      "metadata": {
        "colab": {
          "base_uri": "https://localhost:8080/",
          "height": 312
        },
        "id": "8l64tZUqCEwy",
        "outputId": "df3d5cca-5951-44c7-fff8-28577d8c3cd9"
      },
      "outputs": [
        {
          "output_type": "display_data",
          "data": {
            "text/plain": [
              "<Figure size 432x288 with 0 Axes>"
            ]
          },
          "metadata": {}
        },
        {
          "output_type": "display_data",
          "data": {
            "text/plain": [
              "<Figure size 432x288 with 1 Axes>"
            ],
            "image/png": "[encoded data removed]"
          },
          "metadata": {
            "needs_background": "light"
          }
        }
      ],
      "source": [
        "# Sample Graph code\n",
        "# --- Dataset 2: if input 1 >=0 1 else 0\n",
        "import numpy as np\n",
        "import matplotlib.pyplot as plt\n",
        "\n",
        "data = np.array([[-.9,-.9],[-.6,.6],[-.3,.3],[-.1,.1],[.1,.456],[.3,-.324],[.6,.778],[.9,-.76]])\n",
        "labels = np.array([0,0,0,0,1,1,1,1])\n",
        "\n",
        "# Create a grid\n",
        "plt.figure(1)\n",
        "xlist = np.linspace(-1.0, 1.0, 100) # create 100 evenly spaced points between -1 and 1 for the x axis\n",
        "ylist = np.linspace(-1.0, 1.0, 100) # create 100 evenly spaced points between -1 and 1 for the y axis\n",
        "X, Y = np.meshgrid(xlist, ylist) # make coordinate matrix for our x and y lines\n",
        "Z = X # optional, I wanted to show the true class distinction\n",
        "\n",
        "# Create a plot\n",
        "fig,ax=plt.subplots(1,1)\n",
        "ax.contourf(X, Y, Z, levels=[0, 1], cmap = 'Greys') # optional, I wanted to show the true class distinction\n",
        "ax.set_title('Linearly Separable Data Example')\n",
        "ax.set_xlabel('x')\n",
        "ax.set_ylabel('y')\n",
        "plt.xlim(-1,1)\n",
        "plt.ylim(-1,1)\n",
        "\n",
        "# Scatter plot data points \n",
        "scatter = plt.scatter(data[:,0], data[:,1], c = labels, s=200, cmap='seismic')\n",
        "legend = ax.legend(*scatter.legend_elements(num=1), title=\"Class\", loc='upper right') # Legend\n",
        "ax.add_artist(legend)\n",
        "\n",
        "# Plot the leanrned separator\n",
        "w = [1,1,1] # Get the weights from your own perceptron\n",
        "slope = -2 # this is a magic Number; You should have an equation that calculates the true slope using your perceptron weights\n",
        "intercept = 0.1 # this is a magic Number; You should have an equation that calculates the true intercept using your perceptron weights\n",
        "eq = slope*xlist + intercept\n",
        "plt.plot(xlist,  eq, '-k', )\n",
        "plt.legend(['Learned Separator'], bbox_to_anchor=(.42, 1.0), loc = \"upper right\") # Legend\n",
        "\n",
        "plt.grid() # add grid lines\n",
        "plt.show() # show the plot"
      ]
    },
    {
      "cell_type": "code",
      "execution_count": null,
      "metadata": {
        "id": "ZCPFUAGTS2sX",
        "colab": {
          "base_uri": "https://localhost:8080/",
          "height": 541
        },
        "outputId": "812ceab1-262e-4862-de6b-a3890cf98ca8"
      },
      "outputs": [
        {
          "output_type": "display_data",
          "data": {
            "text/plain": [
              "<Figure size 432x288 with 1 Axes>"
            ],
            "image/png": "[encoded data removed]"
          },
          "metadata": {
            "needs_background": "light"
          }
        },
        {
          "output_type": "display_data",
          "data": {
            "text/plain": [
              "<Figure size 432x288 with 1 Axes>"
            ],
            "image/png": "[encoded data removed]"
          },
          "metadata": {
            "needs_background": "light"
          }
        }
      ],
      "source": [
        "y_sep1 = lambda x: (-(perp.get_weights()[2] / perp.get_weights()[1]) / (perp.get_weights()[2] / perp.get_weights()[0]))*x + (-perp.get_weights()[2] / perp.get_weights()[1])\n",
        "plt.scatter(*X_1.T, c=y_1)\n",
        "plt.plot(np.array(sorted(X_1[:, 0], reverse=True)), y_sep1(np.array(sorted(X_1[:, 0], reverse=True))), label='Decision Line')\n",
        "plt.legend()\n",
        "plt.xlabel(\"x\")\n",
        "plt.ylabel(\"y\")\n",
        "plt.show()\n",
        "\n",
        "y_sep1 = lambda x: (-(perp1.get_weights()[2] / perp1.get_weights()[1]) / (perp1.get_weights()[2] / perp1.get_weights()[0]))*x + (-perp1.get_weights()[2] / perp1.get_weights()[1])\n",
        "plt.scatter(*X_2.T, c=y_1)\n",
        "plt.plot(np.array(sorted(X_2[:, 0], reverse=True)), y_sep1(np.array(sorted(X_2[:, 0], reverse=True))), label='Decision Line')\n",
        "plt.legend()\n",
        "plt.xlabel(\"x\")\n",
        "plt.ylabel(\"y\")\n",
        "plt.show()"
      ]
    },
    {
      "cell_type": "markdown",
      "metadata": {
        "id": "M7dyHR0c92zd"
      },
      "source": [
        "I ran through and plotted each dataset, and the decision line seemed to correspond to the each graph. Of course, the linearly seperable data's decision line was correct in seperating the two and was able to get 100% accuracy on the data. However, the non-linearly seperable data was not as accurate. It still made a reasonable approximation, but not as well as it did for the linearly seperable data. "
      ]
    },
    {
      "cell_type": "markdown",
      "metadata": {
        "id": "_N5RXV8AzdRF"
      },
      "source": [
        "### 2.4 (5%) Discuss why the perceptron won’t converge on non-linearly separable data."
      ]
    },
    {
      "cell_type": "markdown",
      "metadata": {
        "id": "0hSjHuLdzdRF"
      },
      "source": [
        "Preceptron wont converge on non-linearly separable data because perceptron finds seperating hyperplanes with the equation of a line and can only learn hyperplanes.Also, the summantion of infinitely many linear answers will always be linear. Therefore, perceptron can only work with separable data that is linear. "
      ]
    },
    {
      "cell_type": "markdown",
      "metadata": {
        "id": "0ySvhd1lUGSe"
      },
      "source": [
        "## 3. Use your perceptron code to learn this version of the [voting data set](https://raw.githubusercontent.com/cs472ta/CS472/master/datasets/voting-dataset.arff).\n",
        "\n",
        "This particular task is an edited version of the standard voting set, where we have replaced all the “don’t know” values with the most common value for the particular attribute.  \n",
        "\n",
        "### 3.1 (10%) Create a table that reports the final training and test set accuracy and the number of epochs for each trial.\n",
        "\n",
        "- Try it five times with different random 70/30 splits. \n",
        "- Use your own code to randomize and make splits. \n",
        "- Report the 5 trials and the average across the 5 trials in a table (below is an example of what a smaller table might look like).  \n",
        "\n",
        "| Trial | Training Accuracy | Test accuracy | Number of epochs |\n",
        "| --- | --- | --- | --- |\n",
        "| 1 | .95 | .55 | 4 |\n",
        "| 2 | .85 | .45 | 6 |\n",
        "| Average | .9 | .5 | 5 | \n",
        "\n",
        "*- As a rough sanity check, typical Perceptron test accuracies for the voting data set are 90%-98%.*\n"
      ]
    },
    {
      "cell_type": "code",
      "execution_count": null,
      "metadata": {
        "id": "Romyl4G8Trki",
        "colab": {
          "base_uri": "https://localhost:8080/"
        },
        "outputId": "0356ce57-ac8e-444d-ecf8-3b1ce73eacd3"
      },
      "outputs": [
        {
          "output_type": "stream",
          "name": "stdout",
          "text": [
            "   Trial  Training Accuracy  Test Accuracy  Number of Epochs\n",
            "0      0           0.972050       0.949640                10\n",
            "1      1           0.947205       0.899281                10\n",
            "2      2           0.962733       0.971223                10\n",
            "3      3           0.934783       0.935252                10\n",
            "4      4           0.972050       0.913669                10\n"
          ]
        }
      ],
      "source": [
        "dataset = arff.loadarff(\"voting-dataset.arff\")\n",
        "data = pd.DataFrame(dataset[0], dtype=str)\n",
        "X = data.drop(columns=['Class']).to_numpy()\n",
        "y = data['Class'].to_numpy()\n",
        "\n",
        "X = np.array([[1 if X[i][j]==\"b\\'y\\'\" else 0 for j in range(len(X[0]))] for i in range(len(X))])\n",
        "y = np.array([1 if y[i] == \"b'republican'\" else 0 for i in range(len(y))])\n",
        "cut_point = int(len(X) * 0.7)\n",
        "data = {'Trial':[], 'Training Accuracy':[], 'Test Accuracy':[], 'Number of Epochs':[]}\n",
        "misclass = []\n",
        "\n",
        "def shuffler(X, y):\n",
        "    z = np.column_stack([X, y])\n",
        "    np.random.shuffle(z)\n",
        "    return z[:,:-1], z[:,-1]\n",
        "\n",
        "for i in range(5):\n",
        "    data['Trial'].append(i)\n",
        "    X_1, y_1 = shuffler(X, y)\n",
        "    X_1_tr = X_1[:cut_point]\n",
        "    X_1_test = X_1[cut_point:]\n",
        "    y_1_tr = y_1[:cut_point]\n",
        "    y_1_test = y_1[cut_point:]\n",
        "\n",
        "    percep1 = PerceptronClassifier(.1, True)\n",
        "    percep1.fit(X_1_tr, y_1_tr, None)\n",
        "    data['Training Accuracy'].append(percep1.score(X_1_tr,y_1_tr))\n",
        "    data['Test Accuracy'].append(percep1.score(X_1_test,y_1_test))\n",
        "    data['Number of Epochs'].append(percep1.epochs)\n",
        "    misclass.append(percep1.misclass)\n",
        "\n",
        "df = pd.DataFrame(data)\n",
        "print(df)"
      ]
    },
    {
      "cell_type": "markdown",
      "metadata": {
        "id": "DdWOe8Ao-CMe"
      },
      "source": [
        "*Discussion*"
      ]
    },
    {
      "cell_type": "markdown",
      "metadata": {
        "id": "cm4rbWkzVeoR"
      },
      "source": [
        "### 3.2 (5%) By looking at the weights, do your best to explain what the model has learned and how the individual input features affect the result. Which specific features are most critical for the voting task, and which are least critical? \n"
      ]
    },
    {
      "cell_type": "markdown",
      "metadata": {
        "id": "g3F0Qp-BVi1R"
      },
      "source": [
        "The Model has learned that certain voting issues have a bigger partisan and are a huge indicator of which political party they are in. The most specific voiting task are:\n",
        "- physician-fee-freeze\n",
        "- aid-to-nicaraguan-contras\n",
        "- synfuels-corporation-cutback\n",
        "- crime\n",
        "- export-administration-act-south-africa\n",
        "\n",
        "The least critical are:\n",
        "- handicapped-infants\n",
        "- water-project-cost-sharing\n",
        "- superfund-right-to-sue"
      ]
    },
    {
      "cell_type": "markdown",
      "metadata": {
        "id": "NyUmJ4yWVsQ7"
      },
      "source": [
        "### 3.3 (5%) Make a graph of the average misclassification rate vs epochs (0th – final epoch).\n",
        "\n",
        "- Average the misclassification rate for the training set across your 5 trials (not across 5 epochs): mean(number misclassified  /  number of total data points) vs epoch\n",
        "- For larger number epochs, only include in the average those runs that trained for at least that length\n",
        "\n",
        "\n",
        "![Average Misclassification Rate](https://raw.githubusercontent.com/rmorain/CS472-1/master/images/perceptron/avg_misclassification_rate_vs_epochs.png)"
      ]
    },
    {
      "cell_type": "code",
      "execution_count": null,
      "metadata": {
        "id": "2_ZRPWWVVeFM",
        "colab": {
          "base_uri": "https://localhost:8080/",
          "height": 295
        },
        "outputId": "e9892045-5aaf-4b33-d23c-fe051388b8f0"
      },
      "outputs": [
        {
          "output_type": "display_data",
          "data": {
            "text/plain": [
              "<Figure size 432x288 with 1 Axes>"
            ],
            "image/png": "[encoded data removed]"
          },
          "metadata": {
            "needs_background": "light"
          }
        }
      ],
      "source": [
        "# Graph here\n",
        "    \n",
        "def plot_misclassification(avg_misclassification_rate):\n",
        "    \"\"\"\n",
        "        Plots the average misclassification rate\n",
        "    Args:\n",
        "        avg_misclassification_rate (array-like): A 1D array or list\n",
        "    \"\"\"\n",
        "    plt.plot(np.arange(len(avg_misclassification_rate)), avg_misclassification_rate)\n",
        "    plt.title(\"Average Misclassification Rate vs. Epoch\")\n",
        "    plt.xlabel(\"Epoch\")\n",
        "    plt.ylabel(\"Misclassification Rate\")\n",
        "    plt.show()\n",
        "\n",
        "avg_miss = np.mean(misclass, axis=0)\n",
        "plot_misclassification(avg_miss)\n",
        "    \n"
      ]
    },
    {
      "cell_type": "markdown",
      "metadata": {
        "id": "PgqUrgh--GeU"
      },
      "source": [
        "According to the graph, it seems like the accuracy evens out and does not seem to imporve that much with the more epochs we run on it. In fact, it even seems to get a little bit worse once we hit 6 epochs. Then it starts to plataeu again."
      ]
    },
    {
      "cell_type": "markdown",
      "metadata": {
        "id": "oBBmeNQ7jvcQ"
      },
      "source": [
        "## 4.1 (10%) Use the perceptron algorithm from the [scikit-learn toolkit](https://scikit-learn.org/stable/modules/generated/sklearn.linear_model.Perceptron.html) to learn the voting task above.\n",
        "- Report and compare your results with your own perceptron code.\n",
        "- Try out some of the hyper-parameters that scikit-learn makes available for the perceptron and discuss your findings. Record your impressions of how scikit-learn works."
      ]
    },
    {
      "cell_type": "code",
      "execution_count": null,
      "metadata": {
        "id": "OFQv70W2VyqJ",
        "colab": {
          "base_uri": "https://localhost:8080/"
        },
        "outputId": "3ee39199-cab9-4680-b7dc-d5753ee4d5ee"
      },
      "outputs": [
        {
          "output_type": "stream",
          "name": "stdout",
          "text": [
            "   Trial  Training Accuracy  Test Accuracy\n",
            "0      0           0.968944       0.942446\n",
            "1      1           0.909938       0.942446\n",
            "2      2           0.953416       0.956835\n",
            "3      3           0.944099       0.949640\n",
            "4      4           0.962733       0.956835\n"
          ]
        }
      ],
      "source": [
        "dataset = arff.loadarff(\"voting-dataset.arff\")\n",
        "data = pd.DataFrame(dataset[0], dtype=str)\n",
        "X = data.drop(columns=['Class']).to_numpy()\n",
        "y = data['Class'].to_numpy()\n",
        "\n",
        "X = np.array([[1 if X[i][j]==\"b\\'y\\'\" else 0 for j in range(len(X[0]))] for i in range(len(X))])\n",
        "y = np.array([1 if y[i] == \"b'republican'\" else 0 for i in range(len(y))])\n",
        "cut_point = int(len(X) * 0.7)\n",
        "data = {'Trial':[], 'Training Accuracy':[], 'Test Accuracy':[]}\n",
        "misclass = []\n",
        "\n",
        "def shuffler(X, y):\n",
        "    z = np.column_stack([X, y])\n",
        "    np.random.shuffle(z)\n",
        "    return z[:,:-1], z[:,-1]\n",
        "\n",
        "for i in range(5):\n",
        "    data['Trial'].append(i)\n",
        "    X_1, y_1 = shuffler(X, y)\n",
        "    X_1_tr = X_1[:cut_point]\n",
        "    X_1_test = X_1[cut_point:]\n",
        "    y_1_tr = y_1[:cut_point]\n",
        "    y_1_test = y_1[cut_point:]\n",
        "\n",
        "    percep1 = Perceptron()\n",
        "    percep1.fit(X_1_tr, y_1_tr)\n",
        "    data['Training Accuracy'].append(percep1.score(X_1_tr,y_1_tr))\n",
        "    data['Test Accuracy'].append(percep1.score(X_1_test,y_1_test))\n",
        "\n",
        "df = pd.DataFrame(data)\n",
        "print(df)"
      ]
    },
    {
      "cell_type": "markdown",
      "metadata": {
        "id": "tUOVIqv8zdRH"
      },
      "source": [
        "For my comparison between the two in training accuracy between my perceptron algorithm and the scikit-learn perceptron algorithm was very little. It was to the hundreths of accuracy which could be a big difference in some cases, but in terms of these cases it might not matter as much"
      ]
    },
    {
      "cell_type": "markdown",
      "metadata": {
        "id": "mxssT08TzdRH"
      },
      "source": [
        "## 4.2 (10%) Use the perceptron algorithm from the [scikit-learn toolkit](https://scikit-learn.org/stable/modules/generated/sklearn.linear_model.Perceptron.html) to learn one other data set of your choice.  \n",
        "- The UC Irvine Data Repository is a great source, but you may get your data set from wherever you like, though it should represent a real world task.\n",
        "- Try out some of the hyper-parameters that scikit-learn makes available."
      ]
    },
    {
      "cell_type": "code",
      "execution_count": null,
      "metadata": {
        "id": "hqPZLMf1zdRH"
      },
      "outputs": [],
      "source": [
        "# Load sklearn perceptron\n",
        "\n",
        "# Train on your dataset"
      ]
    },
    {
      "cell_type": "markdown",
      "metadata": {
        "id": "BqSFAXwlk3Ms"
      },
      "source": [
        "*Discuss your findinga and hyperparameters used*"
      ]
    },
    {
      "cell_type": "markdown",
      "metadata": {
        "id": "cTlK-kijk8Mg"
      },
      "source": [
        "## 5. (Optional 5% extra credit) Use the perceptron rule to learn the [iris task](https://raw.githubusercontent.com/cs472ta/CS472/master/datasets/iris.arff) or some other task with more than two possible output values. \n",
        "\n",
        "Note that the [iris data](https://raw.githubusercontent.com/cs472ta/CS472/master/datasets/iris.arff) set has 3 output classes, and a perceptron node only has two possible outputs.  You could implement an approach to deal with this like we discussed in class (review in slides). For testing you just execute the novel instance on each model and report the results. You could break ties using net values but that is not required for this part."
      ]
    },
    {
      "cell_type": "code",
      "execution_count": null,
      "metadata": {
        "id": "5iY77P7gk1Nh"
      },
      "outputs": [],
      "source": [
        "# Code here"
      ]
    },
    {
      "cell_type": "markdown",
      "metadata": {
        "id": "CCMC9aHQ-IGL"
      },
      "source": [
        "*Discussion*"
      ]
    }
  ],
  "metadata": {
    "colab": {
      "collapsed_sections": [],
      "provenance": []
    },
    "kernelspec": {
      "display_name": "Python 3 (ipykernel)",
      "language": "python",
      "name": "python3"
    },
    "language_info": {
      "codemirror_mode": {
        "name": "ipython",
        "version": 3
      },
      "file_extension": ".py",
      "mimetype": "text/x-python",
      "name": "python",
      "nbconvert_exporter": "python",
      "pygments_lexer": "ipython3",
      "version": "3.9.12"
    },
    "vscode": {
      "interpreter": {
        "hash": "767d51c1340bd893661ea55ea3124f6de3c7a262a8b4abca0554b478b1e2ff90"
      }
    }
  },
  "nbformat": 4,
  "nbformat_minor": 0
}