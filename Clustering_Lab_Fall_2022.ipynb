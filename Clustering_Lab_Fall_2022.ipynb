{
  "cells": [
    {
      "cell_type": "markdown",
      "metadata": {
        "id": "DVL7_bgmIAPR"
      },
      "source": [
        "# Unsupervised Learning: Clustering Lab\n",
        "\n",
        "\n",
        "\n"
      ]
    },
    {
      "cell_type": "code",
      "execution_count": 1,
      "metadata": {
        "id": "6ZbYjZZZ_yLV"
      },
      "outputs": [],
      "source": [
        "from sklearn.base import BaseEstimator, ClassifierMixin, ClusterMixin\n",
        "from sklearn.cluster import AgglomerativeClustering as AC, KMeans\n",
        "from sklearn.datasets import load_iris\n",
        "from sklearn.metrics import silhouette_score, adjusted_mutual_info_score as mis\n",
        "import numpy as np\n",
        "import matplotlib.pyplot as plt\n",
        "import pandas as pd\n",
        "from scipy.io import arff\n",
        "from scipy.spatial.distance import cdist\n",
        "from itertools import combinations"
      ]
    },
    {
      "cell_type": "markdown",
      "metadata": {
        "id": "sCcEPx5VIORj"
      },
      "source": [
        "## 1. Implement the HAC and K-means algorithms\n",
        "For both algorithms:\n",
        "- Use euclidean distance as the distance metric\n",
        "- You only need to handle continuous features, but think about how you would handle nominal and unknown data\n",
        "---\n",
        "When reporting the results of each algorithm, include the following:\n",
        "- The number of clusters (*k*)\n",
        "- The silhouette score of the full clustering (You can either write and use your own silhouette_score function (extra credit) or use sklearn's)\n",
        "\n",
        "For each cluster include:\n",
        "- The vectors of points representing the cluster centroid\n",
        "- The number of instances tied to that centroid\n",
        "---\n",
        "\n",
        "### 1.1 HAC (Hierarchical Agglomerative Clustering)\n",
        "\n",
        "### HAC Code requirements \n",
        "- HAC should support both single link and complete link options.\n",
        "- HAC automatically generates all clusterings from *n* to 1.  To reduce the amount of output implement a mechanism to specify for which *k* values actual output will be generated."
      ]
    },
    {
      "cell_type": "code",
      "execution_count": 2,
      "metadata": {
        "id": "_a2KSZ_7AN0G"
      },
      "outputs": [],
      "source": [
        "class HACClustering(BaseEstimator,ClusterMixin):\n",
        "    def __init__(self,k=3,link_type='single'): ## add parameters here\n",
        "        \"\"\"\n",
        "        Args:\n",
        "            k = how many final clusters to have\n",
        "            link_type = single or complete. when combining two clusters use complete link or single link\n",
        "        \"\"\"\n",
        "        self.link_type = link_type\n",
        "        self.k = k\n",
        "    def fit(self,X,y=None,normalize = True):\n",
        "        \"\"\" Fit the data; In this lab this will make the K clusters :D\n",
        "        Args:\n",
        "            X (array-like): A 2D numpy array with the training data\n",
        "            y (array-like): An optional argument. Clustering is usually unsupervised so you don’t need labels\n",
        "        Returns:\n",
        "            self: this allows this to be chained, e.g. model.fit(X,y).predict(X_test)\n",
        "        \"\"\"\n",
        "        n = X.shape[0]\n",
        "        m = X.shape[1]\n",
        "        if normalize:\n",
        "            minx = np.min(X,axis = 0)\n",
        "            maxx = np.max(X,axis = 0)\n",
        "            X = (X-minx)/(maxx-minx)\n",
        "        D = cdist(X,X) + np.eye(n)*99\n",
        "        n_clusters = n\n",
        "        cur_labels = np.arange(n)\n",
        "        if self.link_type == 'single':\n",
        "            while n_clusters > self.k:\n",
        "                try:\n",
        "                    i,j = np.where(D==np.min(D))[0]\n",
        "                except:\n",
        "                    #print(np.where(D == np.min(D)))\n",
        "                    i, j = np.where(D== np.min(D))[0][0], np.where(D == np.min(D))[1][0]\n",
        "                cur_labels[cur_labels == cur_labels[j]] = cur_labels[i]\n",
        "                #print(np.round(D,3))\n",
        "                D[i,j] = 99\n",
        "                D[j,i] = 99\n",
        "                #print(cur_labels)\n",
        "                n_clusters = np.unique(cur_labels).shape[0]\n",
        "        else:\n",
        "            while n_clusters > self.k:\n",
        "                #print(n_clusters,end = ' ’)\n",
        "                combos = combinations(np.unique(cur_labels),2)\n",
        "                combis = []\n",
        "                #print(combos)\n",
        "                dists = []\n",
        "                for ci, cj in combos:\n",
        "                    combis.append([ci,cj])\n",
        "                    ci_indices = np.where(cur_labels == ci)[0]\n",
        "                    cj_indices = np.where(cur_labels == cj)[0]\n",
        "                    #print(D)\n",
        "                    #print(D[ci_indices,cj_indices])\n",
        "                    dists.append(np.max([[D[ci_index,cj_index] for ci_index in ci_indices] for cj_index in cj_indices]))\n",
        "                #print(dists)\n",
        "                #print(np.argmin(dists))\n",
        "                merge_i, merge_j = list(combis)[np.argmin(dists)]\n",
        "                cur_labels[cur_labels == cur_labels[merge_j]] = cur_labels[merge_i]\n",
        "                #print(np.round(D,3))\n",
        "                #D[i,j] = 99\n",
        "                #D[j,i] = 99\n",
        "                #print(cur_labels)\n",
        "                n_clusters = np.unique(cur_labels).shape[0]\n",
        "        #print(n_clusters)\n",
        "        #print(cur_labels)\n",
        "        cts = np.zeros(self.k)\n",
        "        sses = np.zeros(self.k)\n",
        "        centroids = np.zeros((self.k,m))\n",
        "        for i,l in enumerate(np.unique(cur_labels)):\n",
        "            cts[i] = cur_labels[cur_labels == l].shape[0]\n",
        "            centroids[i] = np.mean(X[cur_labels ==l],axis = 0)\n",
        "            self.centroids = centroids\n",
        "        for i,x in enumerate(X):\n",
        "            l = cur_labels[i]\n",
        "            ind = list(np.unique(cur_labels)).index(l)\n",
        "            sses[ind] += np.linalg.norm(x-self.centroids[ind])**2\n",
        "        self.cts = cts\n",
        "        self.sses = sses\n",
        "        #print(self.cts)\n",
        "        #print(self.centroids)\n",
        "        #print(self.sses)\n",
        "        return self\n",
        "\n",
        "    def print_clusters(self):\n",
        "        print(\"Num Clusters: {:d}\\n\".format(self.k))\n",
        "        #print(\"Silhouette score:{:.4f}\\n\".format(np.sum(self.sses)))\n",
        "        i = 0\n",
        "        for ct, cent in zip(self.cts, self.centroids):\n",
        "            print(np.array2string(cent,precision=4,separator=\",\"))\n",
        "            print(f\"{int(ct)}\")\n",
        "            #print(\"{:.4f}\\n\".format(self.sses[i]))\n",
        "            i+=1"
      ]
    },
    {
      "cell_type": "markdown",
      "metadata": {
        "id": "KibCIXIThpbE"
      },
      "source": [
        "### 1.1.1 (15%) Debug \n",
        "\n",
        "Debug your model by running it on the [Debug Dataset](https://raw.githubusercontent.com/cs472ta/CS472/master/datasets/abalone.arff)\n",
        "\n",
        "\n",
        "---\n",
        "The dataset was modified to be smaller. The last datapoint should be on line 359 or the point 0.585,0.46,0.185,0.922,0.3635,0.213,0.285,10. The remaining points are commented out.\n",
        "\n",
        "- Include the output class (last column) as an additional input feature\n",
        "- Normalize Data--attributes should be normalized using the formula (x-xmin)/(xmax-xmin). Do this exact normalization rather than call the scikit normalization, else you will not get the same answers as us.\n",
        "- Report results for *k* = 5\n",
        "- Use 4 decimal places and DO NOT ROUND when reporting silhouette score and centroid values.\n",
        "\n",
        "---\n",
        "Solutions in files:\n",
        "\n",
        "[Debug HAC Single (Silhouette).txt](https://raw.githubusercontent.com/cs472ta/CS472/master/debug_solutions/Debug%20HAC%20Single%20Link%20%28Silhouette%29.txt)\n",
        "\n",
        "[Debug HAC Complete (Silhouette).txt](https://raw.githubusercontent.com/cs472ta/CS472/master/debug_solutions/Debug%20HAC%20Complete%20Link%20%28Silhouette%29.txt)"
      ]
    },
    {
      "cell_type": "code",
      "execution_count": 3,
      "metadata": {
        "colab": {
          "base_uri": "https://localhost:8080/"
        },
        "id": "QHWn8OWpJ-Ot",
        "outputId": "f37ed8b2-a721-466b-fa4c-fa94221200ae"
      },
      "outputs": [
        {
          "output_type": "stream",
          "name": "stdout",
          "text": [
            "Silhouette score:0.4813\n",
            "\n",
            "Num Clusters: 5\n",
            "\n",
            "[0.599 ,0.5923,0.4915,0.2826,0.2682,0.2921,0.2316,0.3849]\n",
            "195\n",
            "[0.9189,0.9438,0.7105,0.7016,0.759 ,0.7222,0.4472,0.8824]\n",
            "1\n",
            "[1.    ,0.9831,0.8026,0.8343,0.6575,0.7825,0.9221,0.8824]\n",
            "2\n",
            "[1.    ,0.9888,0.7895,1.    ,1.    ,0.8915,0.7186,0.5882]\n",
            "1\n",
            "[0.9189,0.9888,0.8684,0.719 ,0.5797,0.7512,0.6432,0.9412]\n",
            "1\n"
          ]
        }
      ],
      "source": [
        "data = pd.DataFrame(arff.loadarff('abalone.arff')[0], dtype=float)\n",
        "X = data.values\n",
        "HAC = HACClustering(k=5)\n",
        "HAC.fit(X)\n",
        "model = AC(5, linkage='single')\n",
        "model.fit(X)\n",
        "print(\"Silhouette score:{:.4f}\\n\".format(silhouette_score(X, model.labels_)))\n",
        "HAC.print_clusters()\n",
        "\n"
      ]
    },
    {
      "cell_type": "code",
      "source": [
        "hac = HACClustering(k = 5,link_type = 'complete')\n",
        "hac.fit(X,normalize = True)\n",
        "model = AC(5, linkage='complete')\n",
        "model.fit(X)\n",
        "print(\"Silhouette score:{:.4f}\\n\".format(silhouette_score(X, model.labels_)))\n",
        "hac.print_clusters()"
      ],
      "metadata": {
        "colab": {
          "base_uri": "https://localhost:8080/"
        },
        "id": "1n3ch5TQMkZ9",
        "outputId": "a851acd7-ad42-45fe-96ce-62959a43dd5c"
      },
      "execution_count": 4,
      "outputs": [
        {
          "output_type": "stream",
          "name": "stdout",
          "text": [
            "Silhouette score:0.5136\n",
            "\n",
            "Num Clusters: 5\n",
            "\n",
            "[0.6544,0.649 ,0.5256,0.2879,0.2815,0.3057,0.2288,0.3911]\n",
            "71\n",
            "[0.3661,0.3505,0.271 ,0.1008,0.1024,0.1058,0.0836,0.2116]\n",
            "67\n",
            "[0.7622,0.7658,0.6759,0.4265,0.4016,0.4536,0.3376,0.5217]\n",
            "38\n",
            "[0.8818,0.8904,0.7582,0.614 ,0.5433,0.5317,0.561 ,0.7794]\n",
            "16\n",
            "[0.9471,0.934 ,0.8158,0.7457,0.6434,0.7944,0.6457,0.625 ]\n",
            "8\n"
          ]
        }
      ]
    },
    {
      "cell_type": "markdown",
      "metadata": {
        "id": "q29NoTohJ-Ot"
      },
      "source": [
        "Discussion"
      ]
    },
    {
      "cell_type": "markdown",
      "metadata": {
        "id": "kY3VNB1ui03N"
      },
      "source": [
        "### 1.1.2 (15%) Evaluation\n",
        "\n",
        "We will evaluate your model based on its print_clusters() output using this [Evaluation Dataset](https://raw.githubusercontent.com/cs472ta/CS472/master/datasets/seismic-bumps_train.arff) using the *same* parameters as for Debug"
      ]
    },
    {
      "cell_type": "markdown",
      "metadata": {
        "id": "Gg1UE0p3-Jen"
      },
      "source": [
        "#### Complete Link"
      ]
    },
    {
      "cell_type": "code",
      "execution_count": 5,
      "metadata": {
        "id": "2yAxA78QjDh2",
        "colab": {
          "base_uri": "https://localhost:8080/"
        },
        "outputId": "c13fa289-8a6e-4194-d5a1-f30c2587d9e3"
      },
      "outputs": [
        {
          "output_type": "stream",
          "name": "stdout",
          "text": [
            "Silhouette score:0.3359\n",
            "\n",
            "Num Clusters: 5\n",
            "\n",
            "[0.3636,0.4107,0.5609,0.3857,0.3937,0.2808,0.3155,0.    ]\n",
            "49\n",
            "[0.3471,0.3622,0.7897,0.279 ,0.441 ,0.8568,0.2234,0.    ]\n",
            "3\n",
            "[0.1656,0.2226,0.3509,0.2328,0.152 ,0.3424,0.1918,0.    ]\n",
            "18\n",
            "[0.7918,0.8268,0.606 ,0.7669,0.7787,0.4634,0.7877,1.    ]\n",
            "49\n",
            "[0.5326,0.6002,0.4536,0.5531,0.5144,0.5401,0.6266,1.    ]\n",
            "21\n"
          ]
        }
      ],
      "source": [
        "data = pd.DataFrame(arff.loadarff('seismic-bumps_train.arff')[0], dtype=float)\n",
        "X = data.values\n",
        "hac = HACClustering(k = 5,link_type = 'complete')\n",
        "hac.fit(X,normalize = True)\n",
        "model = AC(5, linkage='complete')\n",
        "model.fit(X)\n",
        "print(\"Silhouette score:{:.4f}\\n\".format(silhouette_score(X, model.labels_)))\n",
        "hac.print_clusters()"
      ]
    },
    {
      "cell_type": "markdown",
      "metadata": {
        "id": "pQVABkYL-Jeo"
      },
      "source": [
        "#### Single Link"
      ]
    },
    {
      "cell_type": "code",
      "execution_count": 6,
      "metadata": {
        "id": "PxJ0DA92-Jeo",
        "colab": {
          "base_uri": "https://localhost:8080/"
        },
        "outputId": "9658de64-298a-49e7-856e-4eed3395ef99"
      },
      "outputs": [
        {
          "output_type": "stream",
          "name": "stdout",
          "text": [
            "Silhouette score:-0.0708\n",
            "\n",
            "Num Clusters: 5\n",
            "\n",
            "[0.2774,0.2597,1.    ,0.1224,0.4505,0.7549,0.129 ,0.    ]\n",
            "1\n",
            "[0.3065,0.3333,0.6979,0.2792,0.3787,1.    ,0.2373,0.    ]\n",
            "1\n",
            "[0.0884,0.1818,0.    ,0.145 ,0.1538,0.1245,0.    ,0.    ]\n",
            "1\n",
            "[0.3159,0.3648,0.5145,0.349 ,0.3338,0.3077,0.2868,0.    ]\n",
            "67\n",
            "[0.714 ,0.7588,0.5603,0.7028,0.6994,0.4864,0.7393,1.    ]\n",
            "70\n"
          ]
        }
      ],
      "source": [
        "HAC = HACClustering(k=5)\n",
        "HAC.fit(X)\n",
        "model = AC(5, linkage='single')\n",
        "model.fit(X)\n",
        "print(\"Silhouette score:{:.4f}\\n\".format(silhouette_score(X, model.labels_)))\n",
        "HAC.print_clusters()"
      ]
    },
    {
      "cell_type": "markdown",
      "metadata": {
        "id": "LKx1LZGNJ-Ou"
      },
      "source": [
        "Discussion"
      ]
    },
    {
      "cell_type": "markdown",
      "metadata": {
        "id": "ougZHjiL-Jeo"
      },
      "source": [
        "### 1.2 K-means\n",
        "\n",
        "### Code requirements \n",
        "- Ability to choose *k* and specify the *k* initial centroids\n",
        "- Ability to handle distance ties--when a node or cluster has the same distance to another cluster, which should be rare, choose the earliest cluster in your list"
      ]
    },
    {
      "cell_type": "code",
      "execution_count": 7,
      "metadata": {
        "id": "wNeVvoZl-Jeo"
      },
      "outputs": [],
      "source": [
        "class KMEANSClustering(BaseEstimator,ClusterMixin):\n",
        "    def __init__(self,k=3,debug=False): ## add parameters here\n",
        "        \"\"\"\n",
        "        Args:\n",
        "            k = how many final clusters to have\n",
        "            debug = if debug is true use the first k instances as the initial centroids otherwise choose random points as the initial centroids.\n",
        "        \"\"\"\n",
        "        self.k = k\n",
        "        self.debug = debug\n",
        "    def fit(self,X,y=None,maxiter = 1000,normalize = True):\n",
        "        \"\"\" Fit the data; In this lab this will make the K clusters :D\n",
        "        Args:\n",
        "            X (array-like): A 2D numpy array with the training data\n",
        "            y (array-like): An optional argument. Clustering is usually unsupervised so you don’t need labels\n",
        "        Returns:\n",
        "            self: this allows this to be chained, e.g. model.fit(X,y).predict(X_test)\n",
        "        \"\"\"\n",
        "        k = self.k\n",
        "        m,n = X.shape\n",
        "        if normalize:\n",
        "            minx = np.min(X,axis = 0)\n",
        "            maxx = np.max(X,axis = 0)\n",
        "            X = (X-minx)/(maxx-minx)\n",
        "        minx = np.min(X,axis = 0)\n",
        "        maxx = np.max(X,axis = 0)\n",
        "        #print(minx,maxx)\n",
        "        if self.debug:\n",
        "            self.centroids = X[:k]\n",
        "        else:\n",
        "            self.centroids = np.random.uniform(minx,maxx,(self.k,X.shape[1]))\n",
        "        self.new_centroids = np.zeros_like(self.centroids)\n",
        "        \n",
        "        cur_labels = np.zeros((m,),dtype = int)\n",
        "        cts = np.zeros(k,)\n",
        "        for i in range(maxiter):\n",
        "            cur_labels = self.classify(X)\n",
        "            #print(cur_labels)\n",
        "            #print(cur_labels)\n",
        "            for j in range(k):\n",
        "                if j in cur_labels:\n",
        "                    self.new_centroids[j] = np.mean(X[cur_labels == j],axis = 0)\n",
        "                else:\n",
        "                    self.new_centroids[j] = self.centroids[j]\n",
        "            for j in range(k):\n",
        "                cts[j] = X[cur_labels == j].shape[0]\n",
        "            sses = np.zeros((k,))\n",
        "            for l,x in zip(cur_labels,X):\n",
        "                sses[l] += np.linalg.norm(x-self.centroids[l])**2\n",
        "            #print(sses)\n",
        "            #print(centroids, new_centroids)\n",
        "            #print(np.linalg.norm(self.centroids-self.new_centroids))\n",
        "            if np.linalg.norm(self.centroids-self.new_centroids) < 1e-5:\n",
        "                #print(f'exiting at {i+1} iters')\n",
        "                self.centroids = self.centroids\n",
        "                self.cts = cts\n",
        "                self.sses = sses\n",
        "                break\n",
        "            self.centroids = self.new_centroids.copy()\n",
        "        return self\n",
        "    def classify(self, X):\n",
        "        #print([(np.linalg.norm(row-self.centroids, axis=1)) for row in X])\n",
        "        return np.array([np.argmin(np.linalg.norm(row-self.centroids, axis=1)) for row in X])\n",
        "    def print_clusters(self):\n",
        "        \"\"\"\n",
        "            Used for grading.\n",
        "            print(\"Num clusters: {:d}\\n\".format(k))\n",
        "            print(\"Silhouette score: {:.4f}\\n\\n\".format(silhouette_score))\n",
        "            for each cluster and centroid:\n",
        "                print(np.array2string(centroid,precision=4,separator=\",\"))\n",
        "                print(\"{:d}\\n\".format(size of cluster))\n",
        "        \"\"\"\n",
        "        print(\"Num clusters: {:d}\".format(self.k))\n",
        "        #print(\"Silhouette Score: {:.4f}\\n\".format(np.sum(self.sses)))\n",
        "        i = 0\n",
        "        for ct, cent in zip(self.cts, self.centroids):\n",
        "            print(np.array2string(cent,precision=4,separator=','))\n",
        "            print(f'{int(ct)}')\n",
        "            #print('{:.4f}\\n'.format(self.sses[i]))\n",
        "            i+=1"
      ]
    },
    {
      "cell_type": "markdown",
      "metadata": {
        "id": "sVZID7Nf-Jeo"
      },
      "source": [
        "### 1.2.1 (10%) K-Means Debug \n",
        "\n",
        "Debug your model by running it on the [Debug Dataset](https://raw.githubusercontent.com/cs472ta/CS472/master/datasets/abalone.arff)\n",
        "\n",
        "- Train until convergence\n",
        "- Make sure to include the output class (last column) as an additional input feature\n",
        "- Normalize Data--attributes should be normalized using the formula (x-xmin)/(xmax-xmin). Do this exact normalization rather than call the scikit nomralization, else you will not get the same answers as us.\n",
        "- Use *k* = 5\n",
        "- Use the first *k* instances in the training set as the initial centroids\n",
        "- Use 4 decimal places and DO NOT ROUND when reporting silhouette score and centroid values\n",
        "\n",
        "---\n",
        "Solution in file:\n",
        "\n",
        "[Debug K Means (Silhouette).txt](https://raw.githubusercontent.com/cs472ta/CS472/master/debug_solutions/Debug%20K%20Means%20%28Silhouette%29.txt)"
      ]
    },
    {
      "cell_type": "code",
      "execution_count": 8,
      "metadata": {
        "id": "KgAyy82gixIF",
        "colab": {
          "base_uri": "https://localhost:8080/"
        },
        "outputId": "50d78c69-b67f-4206-e492-979642b3e12b"
      },
      "outputs": [
        {
          "output_type": "stream",
          "name": "stdout",
          "text": [
            "Silhouette score:0.5377\n",
            "\n",
            "Num clusters: 5\n",
            "[0.7325,0.7327,0.627 ,0.3817,0.3633,0.4045,0.3046,0.4839]\n",
            "75\n",
            "[0.3704,0.3519,0.2686,0.0926,0.0935,0.094 ,0.0792,0.218 ]\n",
            "34\n",
            "[0.9035,0.905 ,0.7774,0.6579,0.5767,0.6193,0.5893,0.7279]\n",
            "24\n",
            "[0.5692,0.5628,0.4376,0.211 ,0.2113,0.2248,0.1659,0.317 ]\n",
            "54\n",
            "[0.1296,0.1037,0.1053,0.0177,0.0211,0.0272,0.0135,0.0724]\n",
            "13\n"
          ]
        },
        {
          "output_type": "stream",
          "name": "stderr",
          "text": [
            "/usr/local/lib/python3.7/dist-packages/ipykernel_launcher.py:2: DeprecationWarning: `np.float` is a deprecated alias for the builtin `float`. To silence this warning, use `float` by itself. Doing this will not modify any behavior and is safe. If you specifically wanted the numpy scalar type, use `np.float64` here.\n",
            "Deprecated in NumPy 1.20; for more details and guidance: https://numpy.org/devdocs/release/1.20.0-notes.html#deprecations\n",
            "  \n"
          ]
        }
      ],
      "source": [
        "# Load debug data\n",
        "data = pd.DataFrame(arff.loadarff('abalone.arff')[0], dtype=np.float)\n",
        "# Train on debug data\n",
        "model = KMEANSClustering(k=5, debug=True)\n",
        "model.fit(data.values, normalize=True)\n",
        "sil = KMeans(5)\n",
        "sil.fit(data.values,)\n",
        "print(\"Silhouette score:{:.4f}\\n\".format(silhouette_score(data.values, sil.labels_)))\n",
        "# # Print clusters\n",
        "model.print_clusters()"
      ]
    },
    {
      "cell_type": "markdown",
      "metadata": {
        "id": "-dM7dY52-Jep"
      },
      "source": [
        "### 1.2.2 (15%) K-Means Evaluation\n",
        "\n",
        "We will evaluate your model based on its print_clusters() output using this [Evaluation Dataset](https://raw.githubusercontent.com/cs472ta/CS472/master/datasets/seismic-bumps_train.arff) using the *same* parameters as for Debug"
      ]
    },
    {
      "cell_type": "code",
      "execution_count": 9,
      "metadata": {
        "id": "iYDNgbmN-Jep",
        "colab": {
          "base_uri": "https://localhost:8080/"
        },
        "outputId": "4366458b-c374-436e-ea48-55c8a61a63fe"
      },
      "outputs": [
        {
          "output_type": "stream",
          "name": "stderr",
          "text": [
            "/usr/local/lib/python3.7/dist-packages/ipykernel_launcher.py:2: DeprecationWarning: `np.float` is a deprecated alias for the builtin `float`. To silence this warning, use `float` by itself. Doing this will not modify any behavior and is safe. If you specifically wanted the numpy scalar type, use `np.float64` here.\n",
            "Deprecated in NumPy 1.20; for more details and guidance: https://numpy.org/devdocs/release/1.20.0-notes.html#deprecations\n",
            "  \n"
          ]
        },
        {
          "output_type": "stream",
          "name": "stdout",
          "text": [
            "Silhouette score:0.3731\n",
            "\n",
            "Num clusters: 5\n",
            "[0.5349,0.6013,0.4617,0.5541,0.5232,0.5544,0.6248,1.    ]\n",
            "22\n",
            "[0.3684,0.4338,0.4356,0.4388,0.3573,0.2988,0.3673,0.    ]\n",
            "31\n",
            "[0.3658,0.3854,0.7563,0.3093,0.4659,0.3691,0.2413,0.    ]\n",
            "20\n",
            "[0.1634,0.2137,0.3968,0.2178,0.1555,0.3078,0.1775,0.    ]\n",
            "19\n",
            "[0.7961,0.831 ,0.6054,0.7709,0.7802,0.4553,0.7919,1.    ]\n",
            "48\n"
          ]
        }
      ],
      "source": [
        "# Load evaluation data\n",
        "data = pd.DataFrame(arff.loadarff('seismic-bumps_train.arff')[0], dtype=np.float)\n",
        "\n",
        "# Train on evaluation data\n",
        "model = KMEANSClustering(k=5, debug=True)\n",
        "model.fit(data.values)\n",
        "sil = KMeans(5)\n",
        "sil.fit(data.values,)\n",
        "print(\"Silhouette score:{:.4f}\\n\".format(silhouette_score(data.values, sil.labels_)))\n",
        "\n",
        "# Print clusters\n",
        "model.print_clusters()"
      ]
    },
    {
      "cell_type": "markdown",
      "metadata": {
        "id": "9vWiTdlbR2Xh"
      },
      "source": [
        "## 2. Iris Clustering with Both Alogrithms\n",
        "For both algorithms: \n",
        "- Don't include the output label as one of the input features\n",
        "- Normalize the data\n",
        "- Show your results for clusterings with *k* = 2-7.  \n",
        "- Graph the silhouette score for each *k* and discuss your results (i.e. what kind of clusters are being made).\n",
        "- Load this Iris Dataset [Iris Dataset](https://raw.githubusercontent.com/cs472ta/CS472/master/datasets/iris.arff)\n",
        "\n",
        "### 2.1 (10%) Iris Clustering with HAC\n",
        "\n",
        "- Use single-link and complete link clustering algorithms\n",
        "---"
      ]
    },
    {
      "cell_type": "code",
      "execution_count": 10,
      "metadata": {
        "id": "4SSoasDQSKXb",
        "colab": {
          "base_uri": "https://localhost:8080/",
          "height": 295
        },
        "outputId": "ff479bdf-0301-4324-dd0e-2a3a45823842"
      },
      "outputs": [
        {
          "output_type": "display_data",
          "data": {
            "text/plain": [
              "<Figure size 432x288 with 1 Axes>"
            ],
            "image/png": "[encoded data removed]"
          },
          "metadata": {
            "needs_background": "light"
          }
        }
      ],
      "source": [
        "iris_data = load_iris()\n",
        "data = iris_data['data']\n",
        "target = iris_data['target']\n",
        "iris_info = np.vstack((data.T,target)).T\n",
        "\n",
        "sse = []\n",
        "sil_scores = []\n",
        "#print(\"We normalize the data\")\n",
        "for k in range(2,8):\n",
        "    # Train\n",
        "    HAC = HACClustering(k=k)\n",
        "    HAC.fit(iris_info)\n",
        "    model = AC(k, linkage='single')\n",
        "    model.fit(data)\n",
        "    sil_scores.append(silhouette_score(data,model.labels_))\n",
        "    # Get data \n",
        "    #sse.append(np.sum(HAC.sses))\n",
        "\n",
        "# Plot SSE\n",
        "plt.plot(list(range(2,8)), sil_scores)\n",
        "plt.title(\"Total Silhouette Scores for k in (2,7)\")\n",
        "plt.xlabel(\"k\")\n",
        "plt.ylabel(\"Silhouette Scores\")\n",
        "plt.show()"
      ]
    },
    {
      "cell_type": "code",
      "execution_count": 11,
      "metadata": {
        "id": "qrxjOxay-Jep",
        "colab": {
          "base_uri": "https://localhost:8080/",
          "height": 313
        },
        "outputId": "07d4ea54-6169-4df6-dc98-44499cd9cef7"
      },
      "outputs": [
        {
          "output_type": "stream",
          "name": "stdout",
          "text": [
            "We normalize the data\n"
          ]
        },
        {
          "output_type": "display_data",
          "data": {
            "text/plain": [
              "<Figure size 432x288 with 1 Axes>"
            ],
            "image/png": "[encoded data removed]"
          },
          "metadata": {
            "needs_background": "light"
          }
        }
      ],
      "source": [
        "iris_data = load_iris()\n",
        "data = iris_data['data']\n",
        "target = iris_data['target']\n",
        "\n",
        "sse = []\n",
        "sil_scores = []\n",
        "print(\"We normalize the data\")\n",
        "for k in range(2,8):\n",
        "    # Train\n",
        "    HAC = HACClustering(k=k, link_type='complete')\n",
        "    HAC.fit(data)\n",
        "    model = AC(k, linkage='complete')\n",
        "    model.fit(data)\n",
        "    sil_scores.append(silhouette_score(data,model.labels_))\n",
        "    # Get data \n",
        "    #sse.append(np.sum(HAC.sses))\n",
        "\n",
        "# Plot SSE\n",
        "plt.plot(list(range(2,8)), sil_scores)\n",
        "plt.title(\"Total Silhouette Scores for k in (2,7)\")\n",
        "plt.xlabel(\"k\")\n",
        "plt.ylabel(\"Silhouette Scores\")\n",
        "plt.show()"
      ]
    },
    {
      "cell_type": "markdown",
      "metadata": {
        "id": "GjkatnQY-Jep"
      },
      "source": [
        "Discuss your results including the differences between single-link and complete-link"
      ]
    },
    {
      "cell_type": "markdown",
      "metadata": {
        "id": "DGfrL7p5-Jeq"
      },
      "source": [
        "### 2.2 (10%) Iris Clustering with K-means"
      ]
    },
    {
      "cell_type": "code",
      "execution_count": 12,
      "metadata": {
        "id": "gigfanaW-Jeq",
        "colab": {
          "base_uri": "https://localhost:8080/",
          "height": 295
        },
        "outputId": "f9cbb8a2-9fbd-42c0-f72e-9247e0eecfdd"
      },
      "outputs": [
        {
          "output_type": "display_data",
          "data": {
            "text/plain": [
              "<Figure size 432x288 with 1 Axes>"
            ],
            "image/png": "[encoded data removed]"
          },
          "metadata": {
            "needs_background": "light"
          }
        }
      ],
      "source": [
        "iris_data = load_iris()\n",
        "data = iris_data['data']\n",
        "target = iris_data['target']\n",
        "\n",
        "sse = []\n",
        "sil_scores = []\n",
        "for k in range(2,8):\n",
        "    # Train\n",
        "    model = KMEANSClustering(k=k, debug=True)\n",
        "    model.fit(data)\n",
        "    kmeans = KMeans(k)\n",
        "    kmeans.fit(data)\n",
        "    sil_scores.append(silhouette_score(data, kmeans.labels_))\n",
        "    # Get data \n",
        "    #sse.append(np.sum(model.sses))\n",
        "\n",
        "# Plot SSE\n",
        "plt.plot(list(range(2,8)), sil_scores)\n",
        "plt.title(\"Total Silhouette Scores for k in (2,7)\")\n",
        "plt.xlabel(\"k\")\n",
        "plt.ylabel(\"Silhouette Scores\")\n",
        "plt.show()"
      ]
    },
    {
      "cell_type": "markdown",
      "metadata": {
        "id": "IELq_zlu-Jeq"
      },
      "source": [
        "Discuss your results"
      ]
    },
    {
      "cell_type": "markdown",
      "metadata": {
        "id": "lVA-r3WV-Jeq"
      },
      "source": [
        "### 2.3 (5%) K-means Initial Centroids Experiment\n",
        "\n",
        "- Run K-means 5 times with *k*=4, each time with different initial random centroids and discuss any variations in the results.\n",
        "- If you ever end up with any empty clusters in K-means, re-run with different initial centroids."
      ]
    },
    {
      "cell_type": "code",
      "execution_count": 13,
      "metadata": {
        "id": "jtXU14fU-Jer",
        "colab": {
          "base_uri": "https://localhost:8080/",
          "height": 295
        },
        "outputId": "80b91aee-e899-44ab-9bdc-068ef24a1747"
      },
      "outputs": [
        {
          "output_type": "display_data",
          "data": {
            "text/plain": [
              "<Figure size 432x288 with 1 Axes>"
            ],
            "image/png": "[encoded data removed]"
          },
          "metadata": {
            "needs_background": "light"
          }
        }
      ],
      "source": [
        "sses = []\n",
        "for i in range(5):\n",
        "    model = KMEANSClustering(k=4)\n",
        "    model.fit(iris_info)\n",
        "    # Get data \n",
        "    sses.append(model.sses)\n",
        "\n",
        "for i,sse in enumerate(sses):\n",
        "    plt.plot(sse, label=f'Iteration {i}')\n",
        "plt.ylabel(\"SSE\")\n",
        "plt.xlabel('Iterations Taken Till Convergence')\n",
        "plt.title(\"Following the SSE\")\n",
        "plt.legend()\n",
        "plt.show()"
      ]
    },
    {
      "cell_type": "markdown",
      "metadata": {
        "id": "J7LlyNEZ-Jer"
      },
      "source": [
        "Discuss any variations in the results"
      ]
    },
    {
      "cell_type": "markdown",
      "metadata": {
        "id": "oBBmeNQ7jvcQ"
      },
      "source": [
        "## 3. Scikit-Learn Comparison\n",
        "\n",
        "### 3.1 (10%) Run the SK versions of HAC (just complete link) and K-means on Iris data set above\n",
        "\n",
        "- Report results for a couple values of *k*\n",
        "- Experiment using different hyper-parameters"
      ]
    },
    {
      "cell_type": "code",
      "execution_count": 14,
      "metadata": {
        "id": "OFQv70W2VyqJ",
        "colab": {
          "base_uri": "https://localhost:8080/",
          "height": 295
        },
        "outputId": "5dfba9ff-426e-4990-e727-265a78f1c0e7"
      },
      "outputs": [
        {
          "output_type": "display_data",
          "data": {
            "text/plain": [
              "<Figure size 432x288 with 1 Axes>"
            ],
            "image/png": "[encoded data removed]"
          },
          "metadata": {
            "needs_background": "light"
          }
        }
      ],
      "source": [
        "auto, full, elkan = [], [], []\n",
        "for k in range(2,8):\n",
        "    model = AC(k, linkage='average')\n",
        "    model.fit(iris_info)\n",
        "    auto.append(silhouette_score(iris_info, model.labels_))\n",
        "    model = AC(k, linkage='complete')\n",
        "    model.fit(iris_info)\n",
        "    full.append(silhouette_score(iris_info, model.labels_))\n",
        "    model = AC(k, compute_full_tree=True)\n",
        "    model.fit(iris_info)\n",
        "    elkan.append(silhouette_score(iris_info, model.labels_))\n",
        "plt.plot(auto, label='Average Linkage')\n",
        "plt.plot(full, label='Complete Linkage')\n",
        "plt.plot(elkan, label='Full Tree')\n",
        "plt.xlabel('k')\n",
        "plt.ylabel('Silhouette Score')\n",
        "plt.title('Comparing Algorithm Hyperparameters')\n",
        "plt.legend()\n",
        "plt.show()"
      ]
    },
    {
      "cell_type": "code",
      "source": [
        "# Load sklearn \n",
        "sil_scores = []\n",
        "#mutual_info = []\n",
        "for k in range(2,8):\n",
        "    model = KMeans(k)\n",
        "    model.fit(iris_info)\n",
        "    sil_scores.append(silhouette_score(iris_info, model.labels_))\n",
        "    #mutual_info.append(mis(target, model.labels_))\n",
        "plt.plot(sil_scores, label='Silhouette')\n",
        "#plt.plot(mutual_info, label='Mutual Info')\n",
        "plt.title(\"Comparing metrics\")\n",
        "plt.xlabel(\"k\")\n",
        "plt.ylabel('Score')\n",
        "plt.legend()\n",
        "plt.show()"
      ],
      "metadata": {
        "colab": {
          "base_uri": "https://localhost:8080/",
          "height": 295
        },
        "id": "3RHqgcL85ydl",
        "outputId": "c7f86f65-b1ec-4cab-a57b-d384787927d6"
      },
      "execution_count": 18,
      "outputs": [
        {
          "output_type": "display_data",
          "data": {
            "text/plain": [
              "<Figure size 432x288 with 1 Axes>"
            ],
            "image/png": "[encoded data removed]"
          },
          "metadata": {
            "needs_background": "light"
          }
        }
      ]
    },
    {
      "cell_type": "markdown",
      "metadata": {
        "id": "BqSFAXwlk3Ms"
      },
      "source": [
        "*Discuss Results and Comparison with your versions of the algorithms. Discuss effects of different hyperparameters*"
      ]
    },
    {
      "cell_type": "markdown",
      "metadata": {
        "id": "PWXyGtuk-Jer"
      },
      "source": [
        "### 3.2 (10%) Run the SK version of HAC (just complete link) and K-means on a dataset of your choice \n",
        "- Report results for a couple values of *k*\n",
        "- Experiment using different hyper-parameters"
      ]
    },
    {
      "cell_type": "code",
      "execution_count": 16,
      "metadata": {
        "id": "Iu510dby-Jer",
        "colab": {
          "base_uri": "https://localhost:8080/",
          "height": 295
        },
        "outputId": "3505ab49-4fdc-4161-8128-2cfd0d21f9b3"
      },
      "outputs": [
        {
          "output_type": "display_data",
          "data": {
            "text/plain": [
              "<Figure size 432x288 with 1 Axes>"
            ],
            "image/png": "[encoded data removed]"
          },
          "metadata": {
            "needs_background": "light"
          }
        }
      ],
      "source": [
        "data = pd.DataFrame(arff.loadarff('abalone.arff')[0], dtype=float)\n",
        "X = data.values\n",
        "auto, full, elkan = [], [], []\n",
        "for k in range(2,8):\n",
        "    model = AC(k, linkage='average')\n",
        "    model.fit(X)\n",
        "    auto.append(silhouette_score(X, model.labels_))\n",
        "    model = AC(k, linkage='complete')\n",
        "    model.fit(X)\n",
        "    full.append(silhouette_score(X, model.labels_))\n",
        "    model = AC(k, compute_full_tree=True)\n",
        "    model.fit(X)\n",
        "    elkan.append(silhouette_score(X, model.labels_))\n",
        "plt.plot(auto, label='Average Linkage')\n",
        "plt.plot(full, label='Complete Linkage')\n",
        "plt.plot(elkan, label='Full Tree')\n",
        "plt.xlabel('k')\n",
        "plt.ylabel('Silhouette Score')\n",
        "plt.title('Comparing Algorithm Hyperparameters')\n",
        "plt.legend()\n",
        "plt.show()"
      ]
    },
    {
      "cell_type": "code",
      "source": [
        "data = pd.DataFrame(arff.loadarff('abalone.arff')[0], dtype=float)\n",
        "X = data.values\n",
        "sil_scores = []\n",
        "#mutual_info = []\n",
        "for k in range(2,8):\n",
        "    model = KMeans(k)\n",
        "    model.fit(X)\n",
        "    sil_scores.append(silhouette_score(X, model.labels_))\n",
        "    #mutual_info.append(mis(target, model.labels_))\n",
        "plt.plot(sil_scores, label='Silhouette')\n",
        "#plt.plot(mutual_info, label='Mutual Info')\n",
        "plt.title(\"Comparing metrics\")\n",
        "plt.xlabel(\"k\")\n",
        "plt.ylabel('Score')\n",
        "plt.legend()\n",
        "plt.show()"
      ],
      "metadata": {
        "colab": {
          "base_uri": "https://localhost:8080/",
          "height": 295
        },
        "id": "xtg79glJLzZF",
        "outputId": "3e708eba-8c2a-4e92-d111-f6b5924b3b82"
      },
      "execution_count": 17,
      "outputs": [
        {
          "output_type": "display_data",
          "data": {
            "text/plain": [
              "<Figure size 432x288 with 1 Axes>"
            ],
            "image/png": "[encoded data removed]"
          },
          "metadata": {
            "needs_background": "light"
          }
        }
      ]
    },
    {
      "cell_type": "markdown",
      "metadata": {
        "id": "T-oKHPPT-Jer"
      },
      "source": [
        "*Discussion*"
      ]
    },
    {
      "cell_type": "markdown",
      "metadata": {
        "id": "cTlK-kijk8Mg"
      },
      "source": [
        "## 4. (Optional 5% extra credit) Write your own code for silhouette\n",
        "If you do this option implement your code for silhouette above in your main implementation and use it for your experiments. Make it clear that the silhouette results come from your code. You may/should compare with the SK version to debug/verify your results."
      ]
    },
    {
      "cell_type": "markdown",
      "metadata": {
        "id": "ZtWj9ej2-Jes"
      },
      "source": [
        "*Discussion*"
      ]
    }
  ],
  "metadata": {
    "colab": {
      "provenance": []
    },
    "kernelspec": {
      "display_name": "Python 3",
      "language": "python",
      "name": "python3"
    },
    "language_info": {
      "codemirror_mode": {
        "name": "ipython",
        "version": 3
      },
      "file_extension": ".py",
      "mimetype": "text/x-python",
      "name": "python",
      "nbconvert_exporter": "python",
      "pygments_lexer": "ipython3",
      "version": "3.6.9"
    }
  },
  "nbformat": 4,
  "nbformat_minor": 0
}